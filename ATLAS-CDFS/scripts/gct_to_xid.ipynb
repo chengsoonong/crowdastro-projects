{
 "cells": [
  {
   "cell_type": "markdown",
   "metadata": {},
   "source": [
    "# GCT to X-ID\n",
    "\n",
    "What is the relationship between accuracy on the galaxy classification task (GCT) and accuracy on the cross-identification task?"
   ]
  },
  {
   "cell_type": "code",
   "execution_count": 7,
   "metadata": {
    "collapsed": true
   },
   "outputs": [],
   "source": [
    "import sys\n",
    "\n",
    "import astropy.coordinates\n",
    "import h5py, astropy.io.ascii as asc\n",
    "import numpy\n",
    "import scipy.stats\n",
    "\n",
    "import pipeline\n",
    "\n",
    "# Try to set up matplotlib fonts.\n",
    "import matplotlib\n",
    "\n",
    "# http://bkanuka.com/articles/native-latex-plots/\n",
    "def figsize(scale):\n",
    "    fig_width_pt = 240.0\n",
    "    inches_per_pt = 1.0/72.27\n",
    "    golden_mean = (numpy.sqrt(5.0)-1.0)/2.0\n",
    "    fig_width = fig_width_pt*inches_per_pt*scale\n",
    "    fig_height = fig_width*golden_mean\n",
    "    fig_size = [fig_width,fig_height]\n",
    "    return fig_size\n",
    "\n",
    "pgf_with_latex = {\n",
    "    \"pgf.texsystem\": \"pdflatex\",\n",
    "    \"text.usetex\": True,\n",
    "    \"font.family\": \"serif\",\n",
    "    \"font.serif\": [],\n",
    "    \"font.sans-serif\": [],\n",
    "    \"font.monospace\": [],\n",
    "    \"axes.labelsize\": 12,\n",
    "    \"font.size\": 12,\n",
    "    \"legend.fontsize\": 12,\n",
    "    \"xtick.labelsize\": 12,\n",
    "    \"ytick.labelsize\": 12,\n",
    "    \"figure.figsize\": figsize(0.9),\n",
    "    \"pgf.preamble\": [\n",
    "        r\"\\usepackage[utf8x]{inputenc}\",\n",
    "        r\"\\usepackage[T1]{fontenc}\",\n",
    "    ]\n",
    "}\n",
    "matplotlib.rcParams.update(pgf_with_latex)\n",
    "\n",
    "swire_names_cdfs, swire_coords_cdfs, swire_features_cdfs = pipeline.generate_swire_features(field='cdfs')\n",
    "swire_names_elais, swire_coords_elais, swire_features_elais = pipeline.generate_swire_features(field='elais')\n",
    "swire_labels_cdfs = pipeline.generate_swire_labels(swire_names_cdfs, swire_coords_cdfs, field='cdfs')\n",
    "swire_labels_elais = pipeline.generate_swire_labels(swire_names_elais, swire_coords_elais, field='elais')\n",
    "(atlas_train_sets_cdfs, atlas_test_sets_cdfs), (swire_train_sets_cdfs, swire_test_sets_cdfs) = pipeline.generate_data_sets(swire_coords_cdfs, swire_labels_cdfs, field='cdfs')\n",
    "(atlas_train_sets_elais, atlas_test_sets_elais), (swire_train_sets_elais, swire_test_sets_elais) = pipeline.generate_data_sets(swire_coords_elais, swire_labels_elais, field='elais')\n",
    "\n",
    "table = asc.read('/Users/alger/data/Crowdastro/one-table-to-rule-them-all.tbl')\n",
    "\n",
    "FALLOFF_SIGMA = 1 / 120"
   ]
  },
  {
   "cell_type": "code",
   "execution_count": 2,
   "metadata": {
    "collapsed": true
   },
   "outputs": [],
   "source": [
    "import scipy.spatial\n",
    "\n",
    "swire_tree = scipy.spatial.KDTree(swire_coords_cdfs)"
   ]
  },
  {
   "cell_type": "code",
   "execution_count": 3,
   "metadata": {
    "collapsed": true
   },
   "outputs": [],
   "source": [
    "swire_name_to_index = {j:i for i, j in enumerate(swire_names_cdfs)}"
   ]
  },
  {
   "cell_type": "code",
   "execution_count": 8,
   "metadata": {},
   "outputs": [
    {
     "name": "stdout",
     "output_type": "stream",
     "text": [
      "10\n"
     ]
    },
    {
     "ename": "NameError",
     "evalue": "name 'swire_coords' is not defined",
     "output_type": "error",
     "traceback": [
      "\u001b[0;31m---------------------------------------------------------------------------\u001b[0m",
      "\u001b[0;31mNameError\u001b[0m                                 Traceback (most recent call last)",
      "\u001b[0;32m<ipython-input-8-b24728f9dafc>\u001b[0m in \u001b[0;36m<module>\u001b[0;34m()\u001b[0m\n\u001b[1;32m     88\u001b[0m             \u001b[0mscoords\u001b[0m \u001b[0;34m=\u001b[0m \u001b[0mastropy\u001b[0m\u001b[0;34m.\u001b[0m\u001b[0mcoordinates\u001b[0m\u001b[0;34m.\u001b[0m\u001b[0mSkyCoord\u001b[0m\u001b[0;34m(\u001b[0m\u001b[0mra\u001b[0m\u001b[0;34m=\u001b[0m\u001b[0mra\u001b[0m\u001b[0;34m,\u001b[0m \u001b[0mdec\u001b[0m\u001b[0;34m=\u001b[0m\u001b[0mdec\u001b[0m\u001b[0;34m,\u001b[0m \u001b[0munit\u001b[0m\u001b[0;34m=\u001b[0m\u001b[0;34m'deg'\u001b[0m\u001b[0;34m)\u001b[0m\u001b[0;34m\u001b[0m\u001b[0m\n\u001b[1;32m     89\u001b[0m             nearby_scoords = astropy.coordinates.SkyCoord(\n\u001b[0;32m---> 90\u001b[0;31m                 ra=swire_coords_cdfs[nearby, 0], dec=swire_coords[nearby, 1], unit='deg')\n\u001b[0m\u001b[1;32m     91\u001b[0m             \u001b[0mseparations\u001b[0m \u001b[0;34m=\u001b[0m \u001b[0mnumpy\u001b[0m\u001b[0;34m.\u001b[0m\u001b[0marray\u001b[0m\u001b[0;34m(\u001b[0m\u001b[0mscoords\u001b[0m\u001b[0;34m.\u001b[0m\u001b[0mseparation\u001b[0m\u001b[0;34m(\u001b[0m\u001b[0mnearby_scoords\u001b[0m\u001b[0;34m)\u001b[0m\u001b[0;34m.\u001b[0m\u001b[0mdeg\u001b[0m\u001b[0;34m)\u001b[0m\u001b[0;34m\u001b[0m\u001b[0m\n\u001b[1;32m     92\u001b[0m             \u001b[0mgaussians\u001b[0m \u001b[0;34m=\u001b[0m \u001b[0mscipy\u001b[0m\u001b[0;34m.\u001b[0m\u001b[0mstats\u001b[0m\u001b[0;34m.\u001b[0m\u001b[0mnorm\u001b[0m\u001b[0;34m.\u001b[0m\u001b[0mpdf\u001b[0m\u001b[0;34m(\u001b[0m\u001b[0mseparations\u001b[0m\u001b[0;34m,\u001b[0m \u001b[0mscale\u001b[0m\u001b[0;34m=\u001b[0m\u001b[0mFALLOFF_SIGMA\u001b[0m\u001b[0;34m)\u001b[0m\u001b[0;34m\u001b[0m\u001b[0m\n",
      "\u001b[0;31mNameError\u001b[0m: name 'swire_coords' is not defined"
     ]
    }
   ],
   "source": [
    "import sklearn.ensemble, random, crowdastro.crowd.util, numpy, sklearn.metrics\n",
    "\n",
    "# Generate some classifiers and test them.\n",
    "\n",
    "bce_losses = []\n",
    "accs_gct = []\n",
    "accs_xid = []\n",
    "quadrants = []\n",
    "distances = []\n",
    "cms = []\n",
    "precisions = []\n",
    "recalls = []\n",
    "waucs = []\n",
    "aucs = []\n",
    "microaucs = []\n",
    "saucs = []\n",
    "n_max = swire_train_sets_cdfs[:, pipeline.SET_NAMES['RGZ & Norris']].sum(axis=0).min()\n",
    "for size in numpy.logspace(1, numpy.log10(n_max), 40):\n",
    "    size = int(size)\n",
    "    print(size)\n",
    "    for quadrant in range(4):\n",
    "        rf = sklearn.linear_model.LogisticRegression(class_weight='balanced',\n",
    "                                                     C=100000.0)\n",
    "        # Choose a subset.\n",
    "        train = list(swire_train_sets_cdfs[:, pipeline.SET_NAMES['RGZ & Norris'], quadrant].nonzero()[0])\n",
    "        random.shuffle(train)\n",
    "        while not swire_labels_cdfs[train[:size], 0].any():\n",
    "            random.shuffle(train)\n",
    "        train = train[:size]\n",
    "        train_features = swire_features_cdfs[train]\n",
    "        train_labels = swire_labels_cdfs[train, 0]\n",
    "        test_features = swire_features_cdfs[swire_test_sets_cdfs[:, pipeline.SET_NAMES['RGZ & Norris'], quadrant]]\n",
    "        test_labels = swire_labels_cdfs[swire_test_sets_cdfs[:, pipeline.SET_NAMES['RGZ & Norris'], quadrant], 0]\n",
    "        rf.fit(train_features, train_labels)\n",
    "        \n",
    "        # Pick a new threshold that maximises balanced accuracy.\n",
    "        thresholds = numpy.linspace(0.4, 0.7, 100)\n",
    "        pred_probs = rf.predict_proba(train_features)[:, 1]\n",
    "        threshold_bas = []\n",
    "        for threshold in thresholds:\n",
    "            try:\n",
    "                ba = crowdastro.crowd.util.balanced_accuracy(\n",
    "                    train_labels,\n",
    "                    pred_probs > threshold)\n",
    "            except ValueError:\n",
    "                ba = 0.5\n",
    "            threshold_bas.append(ba)\n",
    "        best_threshold = thresholds[numpy.argmax(threshold_bas)]\n",
    "        \n",
    "        # Test on SWIRE (GCT).\n",
    "        pred_labels = rf.predict_proba(test_features)[:, 1] > best_threshold\n",
    "        pred_probs = rf.predict_proba(test_features)\n",
    "        waucs.append(sklearn.metrics.roc_auc_score(test_labels, pred_probs[:, 1], average='weighted'))\n",
    "        aucs.append(sklearn.metrics.roc_auc_score(test_labels, pred_probs[:, 1], average='macro'))\n",
    "        microaucs.append(sklearn.metrics.roc_auc_score(test_labels, pred_probs[:, 1], average='micro'))\n",
    "        saucs.append(sklearn.metrics.roc_auc_score(test_labels, pred_probs[:, 1], average='samples'))\n",
    "        ba = crowdastro.crowd.util.balanced_accuracy(test_labels, pred_labels)\n",
    "        accs_gct.append(ba)\n",
    "        n_pos = test_labels.sum()\n",
    "        n_neg = (~test_labels).sum()\n",
    "        pos_weights = numpy.ones(shape=test_labels.shape)\n",
    "        neg_weights = numpy.ones(shape=test_labels.shape) * (n_pos / n_neg)\n",
    "        bce_loss = sklearn.metrics.log_loss(test_labels, pred_probs,\n",
    "                                            sample_weight=numpy.where(test_labels, pos_weights, neg_weights))\n",
    "        bce_losses.append(bce_loss)\n",
    "        quadrants.append(quadrant)\n",
    "        precisions.append(sklearn.metrics.precision_score(test_labels, pred_labels))\n",
    "        recalls.append(sklearn.metrics.recall_score(test_labels, pred_labels))\n",
    "        cms.append(sklearn.metrics.confusion_matrix(test_labels, pred_labels))\n",
    "        \n",
    "        # Test on ATLAS (X-ID).\n",
    "        n_correct = 0\n",
    "        n_total = 0\n",
    "        distances_ = []\n",
    "        for atlas in atlas_test_sets_cdfs[:, pipeline.SET_NAMES['RGZ & Norris'], quadrant].nonzero()[0]:\n",
    "            row = table[table['Key'] == atlas][0]\n",
    "            ra = row['Component RA (Franzen)']\n",
    "            dec = row['Component DEC (Franzen)']\n",
    "            swire = row['Source SWIRE (Norris)']\n",
    "            if not swire.startswith('SWIRE'):\n",
    "                continue\n",
    "            nearby = swire_tree.query_ball_point(numpy.array([ra, dec]), 1 / 60)\n",
    "            nearby_features = swire_features_cdfs[nearby]\n",
    "            if not nearby:\n",
    "                continue\n",
    "            atpreds = rf.predict_proba(nearby_features)[:, 1]\n",
    "            # Multiply by Gaussians\n",
    "            scoords = astropy.coordinates.SkyCoord(ra=ra, dec=dec, unit='deg')\n",
    "            nearby_scoords = astropy.coordinates.SkyCoord(\n",
    "                ra=swire_coords_cdfs[nearby, 0], dec=swire_coords[nearby, 1], unit='deg')\n",
    "            separations = numpy.array(scoords.separation(nearby_scoords).deg)\n",
    "            gaussians = scipy.stats.norm.pdf(separations, scale=FALLOFF_SIGMA)\n",
    "            atpreds *= gaussians\n",
    "            names = [swire_names_cdfs[n] for n in nearby]\n",
    "            name = names[numpy.argmax(atpreds)]\n",
    "            n_correct += name == swire\n",
    "            n_total += 1\n",
    "        accs_xid.append(n_correct / n_total)"
   ]
  },
  {
   "cell_type": "code",
   "execution_count": null,
   "metadata": {
    "collapsed": true
   },
   "outputs": [],
   "source": [
    "n_candidates = []\n",
    "for q in range(4):\n",
    "    for atlas in atlas_test_sets_cdfs[:, pipeline.SET_NAMES['RGZ & Norris'], q].nonzero()[0]:\n",
    "        row = table[table['Key'] == atlas][0]\n",
    "        ra = row['Component RA (Franzen)']\n",
    "        dec = row['Component DEC (Franzen)']\n",
    "        swire = row['Source SWIRE (Norris)']\n",
    "        if not swire.startswith('SWIRE'):\n",
    "            continue\n",
    "        nearby = swire_tree.query_ball_point(numpy.array([ra, dec]), 1 / 60)\n",
    "        n_candidates.append(len(nearby))"
   ]
  },
  {
   "cell_type": "code",
   "execution_count": null,
   "metadata": {
    "collapsed": true
   },
   "outputs": [],
   "source": [
    "import matplotlib.pyplot as plt\n",
    "%matplotlib inline"
   ]
  },
  {
   "cell_type": "code",
   "execution_count": null,
   "metadata": {
    "collapsed": true
   },
   "outputs": [],
   "source": [
    "from scipy.stats import gaussian_kde\n",
    "def density_scatter(xs, ys, cmap='summer', log=False, **kwargs):\n",
    "    xy = numpy.vstack([xs, ys])\n",
    "    z = gaussian_kde(xy)(xy)\n",
    "    if log:\n",
    "        z = numpy.log(z)\n",
    "    plt.scatter(xs, ys, c=z, marker='o', cmap=cmap, **kwargs)"
   ]
  },
  {
   "cell_type": "code",
   "execution_count": null,
   "metadata": {},
   "outputs": [],
   "source": [
    "# plt.scatter(numpy.array(accs_gct) * 100, numpy.array(accs_xid) * 100, marker='+', alpha=0.7,\n",
    "#             cmap='Set2')\n",
    "accs_gct_ = numpy.array(accs_gct)\n",
    "accs_xid_ = numpy.array(accs_xid)\n",
    "density_scatter(accs_gct_[accs_gct_ > 0.51] * 100, accs_xid_[accs_gct_ > 0.51] * 100)\n",
    "plt.xlabel('GCT balanced accuracy')\n",
    "plt.ylabel('X-ID accuracy')\n",
    "plt.grid(color='lightgrey', axis='y')\n",
    "plt.savefig('/Users/alger/repos/crowdastro-projects/ATLAS-CDFS/gct-to-xid-lr.pdf')"
   ]
  },
  {
   "cell_type": "code",
   "execution_count": null,
   "metadata": {},
   "outputs": [],
   "source": [
    "density_scatter(numpy.array(bce_losses) * 100, numpy.array(accs_xid) * 100)\n",
    "plt.xlabel('GCT class-balanced cross-entropy loss')\n",
    "plt.ylabel('X-ID accuracy')\n",
    "plt.gca().invert_xaxis()\n",
    "plt.grid(color='lightgrey', axis='y')"
   ]
  },
  {
   "cell_type": "code",
   "execution_count": null,
   "metadata": {},
   "outputs": [],
   "source": [
    "density_scatter(numpy.array(precisions) * 100, numpy.array(accs_xid) * 100)\n",
    "plt.xlabel('GCT precision')\n",
    "plt.ylabel('X-ID accuracy')\n",
    "plt.grid(color='lightgrey', axis='y')\n",
    "plt.savefig('/Users/alger/repos/crowdastro-projects/ATLAS-CDFS/gct-to-xid-precision.pdf')"
   ]
  },
  {
   "cell_type": "code",
   "execution_count": null,
   "metadata": {},
   "outputs": [],
   "source": [
    "density_scatter(numpy.array(recalls) * 100, numpy.array(accs_xid) * 100)\n",
    "plt.xlabel('GCT recall')\n",
    "plt.ylabel('X-ID accuracy')\n",
    "plt.grid(color='lightgrey', axis='y')\n",
    "plt.savefig('/Users/alger/repos/crowdastro-projects/ATLAS-CDFS/gct-to-xid-recall.pdf')"
   ]
  },
  {
   "cell_type": "code",
   "execution_count": null,
   "metadata": {},
   "outputs": [],
   "source": [
    "density_scatter(numpy.array(aucs), numpy.array(accs_xid) * 100)\n",
    "density_scatter(aucs,\n",
    "                numpy.mean([numpy.array(aucs) ** (n - 1) for n in n_candidates], axis=0) * 100,\n",
    "                cmap='winter')\n",
    "plt.xlabel('GCT AUC')\n",
    "plt.ylabel('X-ID accuracy')\n",
    "plt.grid(color='lightgrey', axis='y')\n",
    "# plt.savefig('/Users/alger/repos/crowdastro-projects/ATLAS-CDFS/gct-to-xid-auc.pdf')"
   ]
  },
  {
   "cell_type": "code",
   "execution_count": null,
   "metadata": {},
   "outputs": [],
   "source": [
    "plt.scatter(numpy.array(recalls), numpy.array(precisions), marker='o', alpha=1, c=quadrants, cmap='Set2')\n",
    "plt.xlabel('Recall')\n",
    "plt.ylabel('Precision')\n",
    "plt.grid(color='lightgrey', axis='y')"
   ]
  },
  {
   "cell_type": "code",
   "execution_count": null,
   "metadata": {},
   "outputs": [],
   "source": [
    "plt.scatter(numpy.array(recalls), numpy.array(precisions), marker='+', alpha=0.7)\n",
    "plt.xlabel('Recall')\n",
    "plt.ylabel('Precision')\n",
    "plt.grid(color='lightgrey', axis='y')"
   ]
  },
  {
   "cell_type": "code",
   "execution_count": null,
   "metadata": {},
   "outputs": [],
   "source": [
    "len(accs_gct)"
   ]
  },
  {
   "cell_type": "code",
   "execution_count": 23,
   "metadata": {},
   "outputs": [
    {
     "name": "stdout",
     "output_type": "stream",
     "text": [
      "10\n"
     ]
    },
    {
     "name": "stderr",
     "output_type": "stream",
     "text": [
      "/usr/local/lib/python3.6/site-packages/sklearn/metrics/classification.py:1113: UndefinedMetricWarning: Precision is ill-defined and being set to 0.0 due to no predicted samples.\n",
      "  'precision', 'predicted', average, warn_for)\n",
      "/usr/local/lib/python3.6/site-packages/sklearn/metrics/classification.py:1113: UndefinedMetricWarning: Precision is ill-defined and being set to 0.0 due to no predicted samples.\n",
      "  'precision', 'predicted', average, warn_for)\n",
      "/usr/local/lib/python3.6/site-packages/sklearn/metrics/classification.py:1113: UndefinedMetricWarning: Precision is ill-defined and being set to 0.0 due to no predicted samples.\n",
      "  'precision', 'predicted', average, warn_for)\n"
     ]
    },
    {
     "name": "stdout",
     "output_type": "stream",
     "text": [
      "11\n"
     ]
    },
    {
     "name": "stderr",
     "output_type": "stream",
     "text": [
      "/usr/local/lib/python3.6/site-packages/sklearn/metrics/classification.py:1113: UndefinedMetricWarning: Precision is ill-defined and being set to 0.0 due to no predicted samples.\n",
      "  'precision', 'predicted', average, warn_for)\n",
      "/usr/local/lib/python3.6/site-packages/sklearn/metrics/classification.py:1113: UndefinedMetricWarning: Precision is ill-defined and being set to 0.0 due to no predicted samples.\n",
      "  'precision', 'predicted', average, warn_for)\n",
      "/usr/local/lib/python3.6/site-packages/sklearn/metrics/classification.py:1113: UndefinedMetricWarning: Precision is ill-defined and being set to 0.0 due to no predicted samples.\n",
      "  'precision', 'predicted', average, warn_for)\n",
      "/usr/local/lib/python3.6/site-packages/sklearn/metrics/classification.py:1113: UndefinedMetricWarning: Precision is ill-defined and being set to 0.0 due to no predicted samples.\n",
      "  'precision', 'predicted', average, warn_for)\n"
     ]
    },
    {
     "name": "stdout",
     "output_type": "stream",
     "text": [
      "14\n"
     ]
    },
    {
     "name": "stderr",
     "output_type": "stream",
     "text": [
      "/usr/local/lib/python3.6/site-packages/sklearn/metrics/classification.py:1113: UndefinedMetricWarning: Precision is ill-defined and being set to 0.0 due to no predicted samples.\n",
      "  'precision', 'predicted', average, warn_for)\n",
      "/usr/local/lib/python3.6/site-packages/sklearn/metrics/classification.py:1113: UndefinedMetricWarning: Precision is ill-defined and being set to 0.0 due to no predicted samples.\n",
      "  'precision', 'predicted', average, warn_for)\n",
      "/usr/local/lib/python3.6/site-packages/sklearn/metrics/classification.py:1113: UndefinedMetricWarning: Precision is ill-defined and being set to 0.0 due to no predicted samples.\n",
      "  'precision', 'predicted', average, warn_for)\n",
      "/usr/local/lib/python3.6/site-packages/sklearn/metrics/classification.py:1113: UndefinedMetricWarning: Precision is ill-defined and being set to 0.0 due to no predicted samples.\n",
      "  'precision', 'predicted', average, warn_for)\n"
     ]
    },
    {
     "name": "stdout",
     "output_type": "stream",
     "text": [
      "16\n"
     ]
    },
    {
     "name": "stderr",
     "output_type": "stream",
     "text": [
      "/usr/local/lib/python3.6/site-packages/sklearn/metrics/classification.py:1113: UndefinedMetricWarning: Precision is ill-defined and being set to 0.0 due to no predicted samples.\n",
      "  'precision', 'predicted', average, warn_for)\n",
      "/usr/local/lib/python3.6/site-packages/sklearn/metrics/classification.py:1113: UndefinedMetricWarning: Precision is ill-defined and being set to 0.0 due to no predicted samples.\n",
      "  'precision', 'predicted', average, warn_for)\n"
     ]
    },
    {
     "name": "stdout",
     "output_type": "stream",
     "text": [
      "19\n"
     ]
    },
    {
     "name": "stderr",
     "output_type": "stream",
     "text": [
      "/usr/local/lib/python3.6/site-packages/sklearn/metrics/classification.py:1113: UndefinedMetricWarning: Precision is ill-defined and being set to 0.0 due to no predicted samples.\n",
      "  'precision', 'predicted', average, warn_for)\n",
      "/usr/local/lib/python3.6/site-packages/sklearn/metrics/classification.py:1113: UndefinedMetricWarning: Precision is ill-defined and being set to 0.0 due to no predicted samples.\n",
      "  'precision', 'predicted', average, warn_for)\n",
      "/usr/local/lib/python3.6/site-packages/sklearn/metrics/classification.py:1113: UndefinedMetricWarning: Precision is ill-defined and being set to 0.0 due to no predicted samples.\n",
      "  'precision', 'predicted', average, warn_for)\n",
      "/usr/local/lib/python3.6/site-packages/sklearn/metrics/classification.py:1113: UndefinedMetricWarning: Precision is ill-defined and being set to 0.0 due to no predicted samples.\n",
      "  'precision', 'predicted', average, warn_for)\n"
     ]
    },
    {
     "name": "stdout",
     "output_type": "stream",
     "text": [
      "23\n"
     ]
    },
    {
     "name": "stderr",
     "output_type": "stream",
     "text": [
      "/usr/local/lib/python3.6/site-packages/sklearn/metrics/classification.py:1113: UndefinedMetricWarning: Precision is ill-defined and being set to 0.0 due to no predicted samples.\n",
      "  'precision', 'predicted', average, warn_for)\n",
      "/usr/local/lib/python3.6/site-packages/sklearn/metrics/classification.py:1113: UndefinedMetricWarning: Precision is ill-defined and being set to 0.0 due to no predicted samples.\n",
      "  'precision', 'predicted', average, warn_for)\n",
      "/usr/local/lib/python3.6/site-packages/sklearn/metrics/classification.py:1113: UndefinedMetricWarning: Precision is ill-defined and being set to 0.0 due to no predicted samples.\n",
      "  'precision', 'predicted', average, warn_for)\n"
     ]
    },
    {
     "name": "stdout",
     "output_type": "stream",
     "text": [
      "27\n"
     ]
    },
    {
     "name": "stderr",
     "output_type": "stream",
     "text": [
      "/usr/local/lib/python3.6/site-packages/sklearn/metrics/classification.py:1113: UndefinedMetricWarning: Precision is ill-defined and being set to 0.0 due to no predicted samples.\n",
      "  'precision', 'predicted', average, warn_for)\n",
      "/usr/local/lib/python3.6/site-packages/sklearn/metrics/classification.py:1113: UndefinedMetricWarning: Precision is ill-defined and being set to 0.0 due to no predicted samples.\n",
      "  'precision', 'predicted', average, warn_for)\n",
      "/usr/local/lib/python3.6/site-packages/sklearn/metrics/classification.py:1113: UndefinedMetricWarning: Precision is ill-defined and being set to 0.0 due to no predicted samples.\n",
      "  'precision', 'predicted', average, warn_for)\n",
      "/usr/local/lib/python3.6/site-packages/sklearn/metrics/classification.py:1113: UndefinedMetricWarning: Precision is ill-defined and being set to 0.0 due to no predicted samples.\n",
      "  'precision', 'predicted', average, warn_for)\n"
     ]
    },
    {
     "name": "stdout",
     "output_type": "stream",
     "text": [
      "32\n"
     ]
    },
    {
     "name": "stderr",
     "output_type": "stream",
     "text": [
      "/usr/local/lib/python3.6/site-packages/sklearn/metrics/classification.py:1113: UndefinedMetricWarning: Precision is ill-defined and being set to 0.0 due to no predicted samples.\n",
      "  'precision', 'predicted', average, warn_for)\n",
      "/usr/local/lib/python3.6/site-packages/sklearn/metrics/classification.py:1113: UndefinedMetricWarning: Precision is ill-defined and being set to 0.0 due to no predicted samples.\n",
      "  'precision', 'predicted', average, warn_for)\n",
      "/usr/local/lib/python3.6/site-packages/sklearn/metrics/classification.py:1113: UndefinedMetricWarning: Precision is ill-defined and being set to 0.0 due to no predicted samples.\n",
      "  'precision', 'predicted', average, warn_for)\n",
      "/usr/local/lib/python3.6/site-packages/sklearn/metrics/classification.py:1113: UndefinedMetricWarning: Precision is ill-defined and being set to 0.0 due to no predicted samples.\n",
      "  'precision', 'predicted', average, warn_for)\n"
     ]
    },
    {
     "name": "stdout",
     "output_type": "stream",
     "text": [
      "39\n"
     ]
    },
    {
     "name": "stderr",
     "output_type": "stream",
     "text": [
      "/usr/local/lib/python3.6/site-packages/sklearn/metrics/classification.py:1113: UndefinedMetricWarning: Precision is ill-defined and being set to 0.0 due to no predicted samples.\n",
      "  'precision', 'predicted', average, warn_for)\n",
      "/usr/local/lib/python3.6/site-packages/sklearn/metrics/classification.py:1113: UndefinedMetricWarning: Precision is ill-defined and being set to 0.0 due to no predicted samples.\n",
      "  'precision', 'predicted', average, warn_for)\n",
      "/usr/local/lib/python3.6/site-packages/sklearn/metrics/classification.py:1113: UndefinedMetricWarning: Precision is ill-defined and being set to 0.0 due to no predicted samples.\n",
      "  'precision', 'predicted', average, warn_for)\n"
     ]
    },
    {
     "name": "stdout",
     "output_type": "stream",
     "text": [
      "46\n"
     ]
    },
    {
     "name": "stderr",
     "output_type": "stream",
     "text": [
      "/usr/local/lib/python3.6/site-packages/sklearn/metrics/classification.py:1113: UndefinedMetricWarning: Precision is ill-defined and being set to 0.0 due to no predicted samples.\n",
      "  'precision', 'predicted', average, warn_for)\n",
      "/usr/local/lib/python3.6/site-packages/sklearn/metrics/classification.py:1113: UndefinedMetricWarning: Precision is ill-defined and being set to 0.0 due to no predicted samples.\n",
      "  'precision', 'predicted', average, warn_for)\n",
      "/usr/local/lib/python3.6/site-packages/sklearn/metrics/classification.py:1113: UndefinedMetricWarning: Precision is ill-defined and being set to 0.0 due to no predicted samples.\n",
      "  'precision', 'predicted', average, warn_for)\n",
      "/usr/local/lib/python3.6/site-packages/sklearn/metrics/classification.py:1113: UndefinedMetricWarning: Precision is ill-defined and being set to 0.0 due to no predicted samples.\n",
      "  'precision', 'predicted', average, warn_for)\n"
     ]
    },
    {
     "name": "stdout",
     "output_type": "stream",
     "text": [
      "54\n"
     ]
    },
    {
     "name": "stderr",
     "output_type": "stream",
     "text": [
      "/usr/local/lib/python3.6/site-packages/sklearn/metrics/classification.py:1113: UndefinedMetricWarning: Precision is ill-defined and being set to 0.0 due to no predicted samples.\n",
      "  'precision', 'predicted', average, warn_for)\n",
      "/usr/local/lib/python3.6/site-packages/sklearn/metrics/classification.py:1113: UndefinedMetricWarning: Precision is ill-defined and being set to 0.0 due to no predicted samples.\n",
      "  'precision', 'predicted', average, warn_for)\n",
      "/usr/local/lib/python3.6/site-packages/sklearn/metrics/classification.py:1113: UndefinedMetricWarning: Precision is ill-defined and being set to 0.0 due to no predicted samples.\n",
      "  'precision', 'predicted', average, warn_for)\n",
      "/usr/local/lib/python3.6/site-packages/sklearn/metrics/classification.py:1113: UndefinedMetricWarning: Precision is ill-defined and being set to 0.0 due to no predicted samples.\n",
      "  'precision', 'predicted', average, warn_for)\n"
     ]
    },
    {
     "name": "stdout",
     "output_type": "stream",
     "text": [
      "65\n",
      "77\n"
     ]
    },
    {
     "name": "stderr",
     "output_type": "stream",
     "text": [
      "/usr/local/lib/python3.6/site-packages/sklearn/metrics/classification.py:1113: UndefinedMetricWarning: Precision is ill-defined and being set to 0.0 due to no predicted samples.\n",
      "  'precision', 'predicted', average, warn_for)\n",
      "/usr/local/lib/python3.6/site-packages/sklearn/metrics/classification.py:1113: UndefinedMetricWarning: Precision is ill-defined and being set to 0.0 due to no predicted samples.\n",
      "  'precision', 'predicted', average, warn_for)\n",
      "/usr/local/lib/python3.6/site-packages/sklearn/metrics/classification.py:1113: UndefinedMetricWarning: Precision is ill-defined and being set to 0.0 due to no predicted samples.\n",
      "  'precision', 'predicted', average, warn_for)\n",
      "/usr/local/lib/python3.6/site-packages/sklearn/metrics/classification.py:1113: UndefinedMetricWarning: Precision is ill-defined and being set to 0.0 due to no predicted samples.\n",
      "  'precision', 'predicted', average, warn_for)\n"
     ]
    },
    {
     "name": "stdout",
     "output_type": "stream",
     "text": [
      "91\n"
     ]
    },
    {
     "name": "stderr",
     "output_type": "stream",
     "text": [
      "/usr/local/lib/python3.6/site-packages/sklearn/metrics/classification.py:1113: UndefinedMetricWarning: Precision is ill-defined and being set to 0.0 due to no predicted samples.\n",
      "  'precision', 'predicted', average, warn_for)\n",
      "/usr/local/lib/python3.6/site-packages/sklearn/metrics/classification.py:1113: UndefinedMetricWarning: Precision is ill-defined and being set to 0.0 due to no predicted samples.\n",
      "  'precision', 'predicted', average, warn_for)\n",
      "/usr/local/lib/python3.6/site-packages/sklearn/metrics/classification.py:1113: UndefinedMetricWarning: Precision is ill-defined and being set to 0.0 due to no predicted samples.\n",
      "  'precision', 'predicted', average, warn_for)\n"
     ]
    },
    {
     "name": "stdout",
     "output_type": "stream",
     "text": [
      "108\n"
     ]
    },
    {
     "name": "stderr",
     "output_type": "stream",
     "text": [
      "/usr/local/lib/python3.6/site-packages/sklearn/metrics/classification.py:1113: UndefinedMetricWarning: Precision is ill-defined and being set to 0.0 due to no predicted samples.\n",
      "  'precision', 'predicted', average, warn_for)\n",
      "/usr/local/lib/python3.6/site-packages/sklearn/metrics/classification.py:1113: UndefinedMetricWarning: Precision is ill-defined and being set to 0.0 due to no predicted samples.\n",
      "  'precision', 'predicted', average, warn_for)\n",
      "/usr/local/lib/python3.6/site-packages/sklearn/metrics/classification.py:1113: UndefinedMetricWarning: Precision is ill-defined and being set to 0.0 due to no predicted samples.\n",
      "  'precision', 'predicted', average, warn_for)\n",
      "/usr/local/lib/python3.6/site-packages/sklearn/metrics/classification.py:1113: UndefinedMetricWarning: Precision is ill-defined and being set to 0.0 due to no predicted samples.\n",
      "  'precision', 'predicted', average, warn_for)\n"
     ]
    },
    {
     "name": "stdout",
     "output_type": "stream",
     "text": [
      "128\n"
     ]
    },
    {
     "name": "stderr",
     "output_type": "stream",
     "text": [
      "/usr/local/lib/python3.6/site-packages/sklearn/metrics/classification.py:1113: UndefinedMetricWarning: Precision is ill-defined and being set to 0.0 due to no predicted samples.\n",
      "  'precision', 'predicted', average, warn_for)\n",
      "/usr/local/lib/python3.6/site-packages/sklearn/metrics/classification.py:1113: UndefinedMetricWarning: Precision is ill-defined and being set to 0.0 due to no predicted samples.\n",
      "  'precision', 'predicted', average, warn_for)\n"
     ]
    },
    {
     "name": "stdout",
     "output_type": "stream",
     "text": [
      "152\n",
      "181\n",
      "214\n",
      "254\n",
      "302\n",
      "358\n",
      "424\n",
      "503\n",
      "597\n",
      "707\n",
      "839\n",
      "995\n",
      "1180\n",
      "1399\n",
      "1659\n",
      "1968\n",
      "2333\n",
      "2767\n",
      "3281\n",
      "3890\n",
      "4613\n",
      "5470\n",
      "6486\n",
      "7692\n"
     ]
    }
   ],
   "source": [
    "# Generate some RF classifiers and test them.\n",
    "\n",
    "bce_losses_rf = []\n",
    "accs_gct_rf = []\n",
    "accs_xid_rf = []\n",
    "quadrants_rf = []\n",
    "distances_rf = []\n",
    "cms_rf = []\n",
    "precisions_rf = []\n",
    "recalls_rf = []\n",
    "aucs_rf = []\n",
    "n_max = swire_train_sets_cdfs[:, pipeline.SET_NAMES['RGZ & Norris']].sum(axis=0).min()\n",
    "for size in numpy.logspace(1, numpy.log10(n_max), 40):\n",
    "    size = int(size)\n",
    "    print(size)\n",
    "    for quadrant in range(4):\n",
    "        rf = sklearn.ensemble.RandomForestClassifier(class_weight='balanced',\n",
    "                                                     criterion='entropy',\n",
    "                                                     min_samples_leaf=45)\n",
    "        # Choose a subset.\n",
    "        train = list(swire_train_sets_cdfs[:, pipeline.SET_NAMES['RGZ & Norris'], quadrant].nonzero()[0])\n",
    "        random.shuffle(train)\n",
    "        while not swire_labels_cdfs[train[:size], 0].any():\n",
    "            random.shuffle(train)\n",
    "        train = train[:size]\n",
    "        train_features = swire_features_cdfs[train]\n",
    "        train_labels = swire_labels_cdfs[train, 0]\n",
    "        test_features = swire_features_cdfs[swire_test_sets_cdfs[:, pipeline.SET_NAMES['RGZ & Norris'], quadrant]]\n",
    "        test_labels = swire_labels_cdfs[swire_test_sets_cdfs[:, pipeline.SET_NAMES['RGZ & Norris'], quadrant], 0]\n",
    "        rf.fit(train_features, train_labels)\n",
    "        \n",
    "        # Test on SWIRE (GCT).\n",
    "        pred_labels = rf.predict(test_features)\n",
    "        pred_probs = rf.predict_proba(test_features)\n",
    "        ba = crowdastro.crowd.util.balanced_accuracy(test_labels, pred_labels)\n",
    "        aucs_rf.append(sklearn.metrics.roc_auc_score(test_labels, pred_probs[:, 1], average='macro'))\n",
    "        accs_gct_rf.append(ba)\n",
    "        n_pos = test_labels.sum()\n",
    "        n_neg = (~test_labels).sum()\n",
    "        pos_weights = numpy.ones(shape=test_labels.shape)\n",
    "        neg_weights = numpy.ones(shape=test_labels.shape) * (n_pos / n_neg)\n",
    "        bce_loss = sklearn.metrics.log_loss(test_labels, pred_probs,\n",
    "                                            sample_weight=numpy.where(test_labels, pos_weights, neg_weights))\n",
    "        bce_losses_rf.append(bce_loss)\n",
    "        quadrants_rf.append(quadrant)\n",
    "        precisions_rf.append(sklearn.metrics.precision_score(test_labels, pred_labels))\n",
    "        recalls_rf.append(sklearn.metrics.recall_score(test_labels, pred_labels))\n",
    "        cms_rf.append(sklearn.metrics.confusion_matrix(test_labels, pred_labels))\n",
    "        \n",
    "        # Test on ATLAS (X-ID).\n",
    "        n_correct = 0\n",
    "        n_total = 0\n",
    "        distances_ = []\n",
    "        for atlas in atlas_test_sets_cdfs[:, pipeline.SET_NAMES['RGZ & Norris'], quadrant].nonzero()[0]:\n",
    "            row = table[table['Key'] == atlas][0]\n",
    "            ra = row['Component RA (Franzen)']\n",
    "            dec = row['Component DEC (Franzen)']\n",
    "            swire = row['Source SWIRE (Norris)']\n",
    "            if not swire.startswith('SWIRE'):\n",
    "                continue\n",
    "            nearby = swire_tree.query_ball_point(numpy.array([ra, dec]), 1 / 60)\n",
    "            nearby_features = swire_features_cdfs[nearby]\n",
    "            if not nearby:\n",
    "                continue\n",
    "            atpreds = rf.predict_proba(nearby_features)[:, 1]\n",
    "            names = [swire_names_cdfs[n] for n in nearby]\n",
    "            name = names[numpy.argmax(atpreds)]\n",
    "            n_correct += name == swire\n",
    "            n_total += 1\n",
    "        accs_xid_rf.append(n_correct / n_total)"
   ]
  },
  {
   "cell_type": "code",
   "execution_count": 35,
   "metadata": {
    "collapsed": true
   },
   "outputs": [],
   "source": [
    "import scipy.stats\n",
    "slope, intercept, r_value, p_value, std_err = scipy.stats.linregress(\n",
    "    accs_gct_[accs_gct_ > 0.51], \n",
    "    accs_xid_[accs_gct_ > 0.51])\n",
    "slope_rf, intercept_rf, r_value_rf, p_value_rf, std_err_rf = scipy.stats.linregress(\n",
    "    accs_gct_rf_[accs_gct_rf_ > 0.51],\n",
    "    accs_xid_rf_[accs_gct_rf_ > 0.51])"
   ]
  },
  {
   "cell_type": "code",
   "execution_count": 29,
   "metadata": {},
   "outputs": [
    {
     "data": {
      "image/png": "[encoded data removed]",
      "text/plain": [
       "<matplotlib.figure.Figure at 0x11bc244e0>"
      ]
     },
     "metadata": {},
     "output_type": "display_data"
    }
   ],
   "source": [
    "accs_gct_rf_ = numpy.array(accs_gct_rf)\n",
    "accs_xid_rf_ = numpy.array(accs_xid_rf)\n",
    "density_scatter(accs_gct_rf_[accs_gct_rf_ > 0.51], accs_xid_rf_[accs_gct_rf_ > 0.51], log=True)\n",
    "plt.xlabel('GCT balanced accuracy')\n",
    "plt.ylabel('X-ID accuracy')\n",
    "plt.grid(color='lightgrey', axis='y')\n",
    "plt.savefig('/Users/alger/repos/crowdastro-projects/ATLAS-CDFS/images/gct-to-xid-rf.pdf')"
   ]
  },
  {
   "cell_type": "code",
   "execution_count": null,
   "metadata": {
    "collapsed": true
   },
   "outputs": [],
   "source": [
    "density_scatter(numpy.array(precisions_rf) * 100, numpy.array(accs_xid_rf) * 100, log=True)\n",
    "plt.xlabel('GCT precision')\n",
    "plt.ylabel('X-ID accuracy')\n",
    "plt.grid(color='lightgrey', axis='y')\n",
    "plt.savefig('/Users/alger/repos/crowdastro-projects/ATLAS-CDFS/gct-to-xid-precision-rf.pdf')"
   ]
  },
  {
   "cell_type": "code",
   "execution_count": null,
   "metadata": {
    "collapsed": true
   },
   "outputs": [],
   "source": [
    "density_scatter(numpy.array(recalls_rf) * 100, numpy.array(accs_xid_rf) * 100, log=True)\n",
    "plt.xlabel('GCT recall')\n",
    "plt.ylabel('X-ID accuracy')\n",
    "plt.grid(color='lightgrey', axis='y')\n",
    "plt.savefig('/Users/alger/repos/crowdastro-projects/ATLAS-CDFS/gct-to-xid-recall-rf.pdf')"
   ]
  },
  {
   "cell_type": "code",
   "execution_count": 31,
   "metadata": {},
   "outputs": [
    {
     "data": {
      "image/png": "[encoded data removed]",
      "text/plain": [
       "<matplotlib.figure.Figure at 0x1199b84a8>"
      ]
     },
     "metadata": {},
     "output_type": "display_data"
    }
   ],
   "source": [
    "density_scatter(numpy.array(aucs_rf), numpy.array(accs_xid_rf) * 100, log=True)\n",
    "plt.plot(sorted(aucs_rf),\n",
    "         numpy.mean([numpy.array(sorted(aucs_rf)) ** (n - 1) for n in n_candidates], axis=0) * 100,\n",
    "         linewidth=1)\n",
    "plt.xlabel('GCT AUC')\n",
    "plt.ylabel('X-ID accuracy')\n",
    "plt.grid(color='lightgrey', axis='y')\n",
    "plt.savefig('/Users/alger/repos/crowdastro-projects/ATLAS-CDFS/images/gct-to-xid-auc-rf.pdf')"
   ]
  },
  {
   "cell_type": "code",
   "execution_count": null,
   "metadata": {
    "collapsed": true
   },
   "outputs": [],
   "source": []
  },
  {
   "cell_type": "code",
   "execution_count": 39,
   "metadata": {},
   "outputs": [
    {
     "data": {
      "image/png": "[encoded data removed]",
      "text/plain": [
       "<matplotlib.figure.Figure at 0x11b4083c8>"
      ]
     },
     "metadata": {},
     "output_type": "display_data"
    }
   ],
   "source": [
    "fs = figsize(0.9)\n",
    "fs = fs[0] * 1.5, fs[1] * 3\n",
    "fig = plt.figure(figsize=fs)\n",
    "plt.subplot(2, 1, 1)\n",
    "density_scatter(\n",
    "    accs_gct_rf_[accs_gct_rf_ > 0.51] * 100,\n",
    "    accs_xid_rf_[accs_gct_rf_ > 0.51] * 100, log=True, cmap='cool')\n",
    "plt.plot(numpy.array(sorted(accs_gct_rf_[accs_gct_rf_ > 0.51])) * 100,\n",
    "         numpy.array(sorted(accs_gct_rf_[accs_gct_rf_ > 0.51])) * slope_rf * 100 + intercept_rf * 100,\n",
    "         linewidth=1, color='k')\n",
    "# plt.hexbin(numpy.array(accs_gct_rf) * 100, numpy.array(accs_xid_rf) * 100, gridsize=15, bins='log')\n",
    "# plt.scatter(numpy.array(precisions_rf) * 100, numpy.array(accs_xid_rf) * 100, marker='.', alpha=0.7)\n",
    "plt.ylabel('X-ID accuracy (per cent)')\n",
    "plt.xticks([])\n",
    "# plt.grid(color='lightgrey', axis='y')\n",
    "plt.annotate('RF', (50, 80))\n",
    "plt.xlim((45, 100))\n",
    "plt.subplot(2, 1, 2)\n",
    "density_scatter\n",
    "density_scatter(accs_gct_[accs_gct_ > 0.51] * 100, accs_xid_[accs_gct_ > 0.51] * 100, log=True, cmap='cool')\n",
    "plt.plot(numpy.array(sorted(accs_gct_[accs_gct_ > 0.51])) * 100,\n",
    "         numpy.array(sorted(accs_gct_[accs_gct_ > 0.51])) * slope * 100 + intercept * 100,\n",
    "         linewidth=1, color='k')\n",
    "# plt.hexbin(numpy.array(accs_gct) * 100, numpy.array(accs_xid) * 100, gridsize=15, bins='log')\n",
    "# plt.scatter(numpy.array(precisions) * 100, numpy.array(accs_xid) * 100, marker='.', alpha=0.7)\n",
    "plt.xlabel('GCT balanced accuracy (per cent)')\n",
    "plt.ylabel('X-ID accuracy (per cent)')\n",
    "# plt.grid(color='lightgrey', axis='y')\n",
    "plt.xlim((45, 100))\n",
    "plt.annotate('LR', (50, 80))\n",
    "import matplotlib.cm, matplotlib.colors, matplotlib.colorbar\n",
    "cbar_ax = fig.add_axes([0.75, 0.12, 0.05, 0.76])\n",
    "norm = matplotlib.colors.Normalize(vmin=0, vmax=1)\n",
    "cb1 = matplotlib.colorbar.ColorbarBase(cbar_ax,\n",
    "                                       norm=norm,\n",
    "                                       orientation='vertical',\n",
    "                                       cmap='cool')\n",
    "cb1.set_label('log(classifier density)')\n",
    "# fig.colorbar(cax=cbar_ax)\n",
    "plt.subplots_adjust(hspace=0, right=0.7, left=0.2)\n",
    "plt.savefig('/Users/alger/repos/crowdastro-projects/ATLAS-CDFS/images/gct-to-xid.pdf')"
   ]
  },
  {
   "cell_type": "code",
   "execution_count": 40,
   "metadata": {},
   "outputs": [
    {
     "name": "stdout",
     "output_type": "stream",
     "text": [
      "0.854147221028 0.643591167692\n",
      "0.0558303028281 0.161951456729\n"
     ]
    }
   ],
   "source": [
    "slope, intercept, r_value, p_value, std_err = scipy.stats.linregress(accs_gct_[accs_gct_ > 0.51], accs_xid_[accs_gct_ > 0.51])\n",
    "slope_rf, intercept_rf, r_value_rf, p_value_rf, std_err_rf = scipy.stats.linregress(accs_gct_rf_[accs_gct_rf_ > 0.51], accs_xid_rf_[accs_gct_rf_ > 0.51])\n",
    "\n",
    "print(r_value**2, r_value_rf**2)\n",
    "print(std_err, std_err_rf)"
   ]
  },
  {
   "cell_type": "code",
   "execution_count": 60,
   "metadata": {},
   "outputs": [
    {
     "name": "stdout",
     "output_type": "stream",
     "text": [
      "6.98469628987 -0.196491891105\n"
     ]
    },
    {
     "data": {
      "text/plain": [
       "<matplotlib.text.Text at 0x118a06240>"
      ]
     },
     "execution_count": 60,
     "metadata": {},
     "output_type": "execute_result"
    },
    {
     "data": {
      "image/png": "[encoded data removed]",
      "text/plain": [
       "<matplotlib.figure.Figure at 0x14f443e80>"
      ]
     },
     "metadata": {},
     "output_type": "display_data"
    }
   ],
   "source": [
    "aucs_rf_ = numpy.array(aucs_rf)\n",
    "xs = numpy.log(aucs_rf_[aucs_rf_ > 0.51])\n",
    "ys = numpy.log(accs_xid_rf_[aucs_rf_ > 0.51])\n",
    "plt.scatter(xs, ys)\n",
    "m, b = numpy.polyfit(xs, ys, 1)\n",
    "plt.plot(xs, m * xs + b, c='black')\n",
    "print(m, b)\n",
    "plt.xlabel('log(GCT AUC)')\n",
    "plt.ylabel('log(XID accuracy)')\n",
    "# N = 20\n",
    "# plt.scatter(xs, numpy.exp(-N / 200) * xs ** N + (1 - numpy.exp(-N / 200)))"
   ]
  },
  {
   "cell_type": "markdown",
   "metadata": {
    "collapsed": true
   },
   "source": [
    "\\begin{align*}\n",
    "    log(XID) &= m \\log(AUC) + b\\\\\n",
    "        &= \\log(AUC^m) + b\\\\\n",
    "    XID &= \\exp(b) AUC^m\\\\\n",
    "\\end{align*}"
   ]
  },
  {
   "cell_type": "code",
   "execution_count": 62,
   "metadata": {},
   "outputs": [
    {
     "data": {
      "text/plain": [
       "1.2092495976572515"
      ]
     },
     "execution_count": 62,
     "metadata": {},
     "output_type": "execute_result"
    }
   ],
   "source": [
    "numpy.exp(0.19)"
   ]
  },
  {
   "cell_type": "markdown",
   "metadata": {},
   "source": [
    "So only the ~8 galaxies closest the radio object matter under my model. What's the expected radius we need to get $N$ galaxies?"
   ]
  },
  {
   "cell_type": "markdown",
   "metadata": {},
   "source": [
    "$$R_N = \\sqrt{\\frac{N}{\\pi\\rho}}$$"
   ]
  },
  {
   "cell_type": "markdown",
   "metadata": {},
   "source": [
    "Do the units check out?\n",
    "\n",
    "$$m = \\sqrt{\\frac{1}{1 \\times \\frac{1}{m^2}}} = m$$\n",
    "\n",
    "Yup, looks good. What's the average density of galaxies, per square arcmin?"
   ]
  },
  {
   "cell_type": "code",
   "execution_count": 66,
   "metadata": {},
   "outputs": [
    {
     "name": "stdout",
     "output_type": "stream",
     "text": [
      "8.00018847275\n"
     ]
    }
   ],
   "source": [
    "densities = []\n",
    "for atlas in atlas_test_sets_cdfs[:, pipeline.SET_NAMES['RGZ & Norris'], 0].nonzero()[0]:\n",
    "    row = table[table['Key'] == atlas][0]\n",
    "    ra = row['Component RA (Franzen)']\n",
    "    dec = row['Component DEC (Franzen)']\n",
    "    swire = row['Source SWIRE (Norris)']\n",
    "    if not swire.startswith('SWIRE'):\n",
    "        continue\n",
    "    nearby = swire_tree.query_ball_point(numpy.array([ra, dec]), 1 / 60)\n",
    "    n = len(nearby)\n",
    "    area = numpy.pi\n",
    "    densities.append(n / area)\n",
    "print(numpy.mean(densities))"
   ]
  },
  {
   "cell_type": "markdown",
   "metadata": {},
   "source": [
    "So\n",
    "\n",
    "$$R_8 = \\sqrt{\\frac{8}{8 \\pi}} = \\frac{1}{\\sqrt{\\pi}} \\approx 0.56 \\text{ arcmin}$$\n",
    "\n",
    "is the radius in which we expect to find \"difficult\" examples. What's that look like on an image?"
   ]
  },
  {
   "cell_type": "code",
   "execution_count": 71,
   "metadata": {
    "collapsed": true
   },
   "outputs": [],
   "source": [
    "import aplpy"
   ]
  },
  {
   "cell_type": "code",
   "execution_count": 105,
   "metadata": {},
   "outputs": [
    {
     "name": "stderr",
     "output_type": "stream",
     "text": [
      "WARNING: FITSFixedWarning: PC001001= 1.000000000000E+00 \n",
      "this form of the PCi_ja keyword is deprecated, use PCi_ja. [astropy.wcs.wcs]\n",
      "WARNING: FITSFixedWarning: PC002001= 0.000000000000E+00 \n",
      "this form of the PCi_ja keyword is deprecated, use PCi_ja. [astropy.wcs.wcs]\n",
      "WARNING: FITSFixedWarning: PC001002= 0.000000000000E+00 \n",
      "this form of the PCi_ja keyword is deprecated, use PCi_ja. [astropy.wcs.wcs]\n",
      "WARNING: FITSFixedWarning: PC002002= 1.000000000000E+00 \n",
      "this form of the PCi_ja keyword is deprecated, use PCi_ja. [astropy.wcs.wcs]\n"
     ]
    },
    {
     "name": "stdout",
     "output_type": "stream",
     "text": [
      "INFO: Auto-setting vmin to -6.858e+01 [aplpy.core]\n",
      "INFO: Auto-setting vmax to  7.227e+02 [aplpy.core]\n"
     ]
    },
    {
     "data": {
      "image/png": "[encoded data removed]",
      "text/plain": [
       "<matplotlib.figure.Figure at 0x11aab4e48>"
      ]
     },
     "metadata": {},
     "output_type": "display_data"
    }
   ],
   "source": [
    "f = aplpy.FITSFigure('/Users/alger/data/RGZ/cdfs/2x2/CI0020_radio.fits')\n",
    "f.show_grayscale()\n",
    "f.show_rectangles(*f.pixel2world(100, 100), 2 * 0.56 / 60, 2 * 0.56 / 60, edgecolor='red', linewidth=10)\n",
    "f.show_rectangles(*f.pixel2world(70, 70),\n",
    "                  *numpy.abs(numpy.array(f.pixel2world(100, 100)) - numpy.array(f.pixel2world(132, 132))),\n",
    "                  edgecolor='pink', linewidth=5)\n"
   ]
  },
  {
   "cell_type": "code",
   "execution_count": 80,
   "metadata": {},
   "outputs": [
    {
     "data": {
      "text/plain": [
       "(53.300339438393884, -27.818536047903606)"
      ]
     },
     "execution_count": 80,
     "metadata": {},
     "output_type": "execute_result"
    }
   ],
   "source": []
  },
  {
   "cell_type": "code",
   "execution_count": null,
   "metadata": {
    "collapsed": true
   },
   "outputs": [],
   "source": []
  }
 ],
 "metadata": {
  "kernelspec": {
   "display_name": "Python 3",
   "language": "python",
   "name": "python3"
  },
  "language_info": {
   "codemirror_mode": {
    "name": "ipython",
    "version": 3
   },
   "file_extension": ".py",
   "mimetype": "text/x-python",
   "name": "python",
   "nbconvert_exporter": "python",
   "pygments_lexer": "ipython3",
   "version": "3.6.1"
  }
 },
 "nbformat": 4,
 "nbformat_minor": 2
}
