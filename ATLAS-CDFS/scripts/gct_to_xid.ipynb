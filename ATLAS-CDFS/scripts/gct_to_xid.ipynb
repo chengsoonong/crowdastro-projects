{
 "cells": [
  {
   "cell_type": "markdown",
   "metadata": {},
   "source": [
    "# GCT to X-ID\n",
    "\n",
    "What is the relationship between accuracy on the galaxy classification task (GCT) and accuracy on the cross-identification task?"
   ]
  },
  {
   "cell_type": "code",
   "execution_count": 1,
   "metadata": {},
   "outputs": [
    {
     "name": "stderr",
     "output_type": "stream",
     "text": [
      "Using Theano backend.\n",
      "WARNING (theano.sandbox.cuda): The cuda backend is deprecated and will be removed in the next release (v0.10).  Please switch to the gpuarray backend. You can get more information about how to switch at this URL:\n",
      " https://github.com/Theano/Theano/wiki/Converting-to-the-new-gpu-back-end%28gpuarray%29\n",
      "\n",
      "ERROR (theano.sandbox.cuda): nvcc compiler not found on $PATH. Check your nvcc installation and try again.\n"
     ]
    }
   ],
   "source": [
    "import sys\n",
    "\n",
    "import astropy.io.ascii as asc\n",
    "import astropy.coordinates\n",
    "import crowdastro.crowd.util\n",
    "import cmocean\n",
    "import h5py\n",
    "import keras.models\n",
    "import numpy\n",
    "import scipy.spatial\n",
    "import scipy.stats\n",
    "import sklearn.ensemble\n",
    "import sklearn.linear_model\n",
    "import sklearn.metrics\n",
    "\n",
    "import pipeline\n",
    "\n",
    "# Try to set up matplotlib fonts.\n",
    "import matplotlib\n",
    "\n",
    "# http://bkanuka.com/articles/native-latex-plots/\n",
    "def figsize(scale):\n",
    "    fig_width_pt = 240.0\n",
    "    inches_per_pt = 1.0/72.27\n",
    "    golden_mean = (numpy.sqrt(5.0)-1.0)/2.0\n",
    "    fig_width = fig_width_pt*inches_per_pt*scale\n",
    "    fig_height = fig_width*golden_mean\n",
    "    fig_size = [fig_width,fig_height]\n",
    "    return fig_size\n",
    "\n",
    "pgf_with_latex = {\n",
    "    \"pgf.texsystem\": \"pdflatex\",\n",
    "    \"text.usetex\": True,\n",
    "    \"font.family\": \"serif\",\n",
    "    \"font.serif\": [],\n",
    "    \"font.sans-serif\": [],\n",
    "    \"font.monospace\": [],\n",
    "    \"axes.labelsize\": 12,\n",
    "    \"font.size\": 12,\n",
    "    \"legend.fontsize\": 12,\n",
    "    \"xtick.labelsize\": 12,\n",
    "    \"ytick.labelsize\": 12,\n",
    "    \"figure.figsize\": figsize(0.9),\n",
    "    \"pgf.preamble\": [\n",
    "        r\"\\usepackage[utf8x]{inputenc}\",\n",
    "        r\"\\usepackage[T1]{fontenc}\",\n",
    "    ]\n",
    "}\n",
    "matplotlib.rcParams.update(pgf_with_latex)\n",
    "\n",
    "swire_names_cdfs, swire_coords_cdfs, swire_features_cdfs = pipeline.generate_swire_features(field='cdfs')\n",
    "swire_names_elais, swire_coords_elais, swire_features_elais = pipeline.generate_swire_features(field='elais')\n",
    "swire_labels_cdfs = pipeline.generate_swire_labels(swire_names_cdfs, swire_coords_cdfs, field='cdfs')\n",
    "swire_labels_elais = pipeline.generate_swire_labels(swire_names_elais, swire_coords_elais, field='elais')\n",
    "(atlas_train_sets_cdfs, atlas_test_sets_cdfs), (swire_train_sets_cdfs, swire_test_sets_cdfs) = pipeline.generate_data_sets(swire_coords_cdfs, swire_labels_cdfs, field='cdfs')\n",
    "(atlas_train_sets_elais, atlas_test_sets_elais), (swire_train_sets_elais, swire_test_sets_elais) = pipeline.generate_data_sets(swire_coords_elais, swire_labels_elais, field='elais')\n",
    "\n",
    "table = asc.read('/Users/alger/data/Crowdastro/one-table-to-rule-them-all.tbl')\n",
    "\n",
    "FALLOFF_SIGMA = 1 / 120\n",
    "SEARCH_RADIUS = 1 / 60\n",
    "\n",
    "\n",
    "import matplotlib.pyplot as plt\n",
    "%matplotlib inline"
   ]
  },
  {
   "cell_type": "code",
   "execution_count": 2,
   "metadata": {
    "collapsed": true
   },
   "outputs": [],
   "source": [
    "swire_tree = scipy.spatial.KDTree(swire_coords_cdfs)"
   ]
  },
  {
   "cell_type": "code",
   "execution_count": 3,
   "metadata": {
    "collapsed": true
   },
   "outputs": [],
   "source": [
    "swire_name_to_index = {j:i for i, j in enumerate(swire_names_cdfs)}"
   ]
  },
  {
   "cell_type": "code",
   "execution_count": 4,
   "metadata": {
    "collapsed": true
   },
   "outputs": [],
   "source": [
    "_atlas_to_nearby_features = {}\n",
    "_atlas_to_nearby_names = {}\n",
    "_atlas_to_nearby_gaussians = {}\n",
    "def get_xid_acc(classifier, quadrant):\n",
    "    n_correct = 0\n",
    "    n_total = 0\n",
    "    for atlas in atlas_test_sets_cdfs[:, pipeline.SET_NAMES['RGZ & Norris'], quadrant].nonzero()[0]:\n",
    "        row = table[table['Key'] == atlas][0]\n",
    "        ra = row['Component RA (Franzen)']\n",
    "        dec = row['Component DEC (Franzen)']\n",
    "        swire = row['Source SWIRE (Norris)']\n",
    "        if not swire.startswith('SWIRE'):\n",
    "            # Skip objects without a SWIRE host.\n",
    "            continue\n",
    "\n",
    "        # Find candidate hosts.\n",
    "        if atlas in _atlas_to_nearby_features:\n",
    "            nearby_features = _atlas_to_nearby_features[atlas]\n",
    "            nearby_names = _atlas_to_nearby_names[atlas]\n",
    "            nearby_gaussians = _atlas_to_nearby_gaussians[atlas]\n",
    "        else:\n",
    "            nearby = swire_tree.query_ball_point(numpy.array([ra, dec]), SEARCH_RADIUS)\n",
    "            nearby_features = swire_features_cdfs[nearby]\n",
    "            scoords = astropy.coordinates.SkyCoord(ra=ra, dec=dec, unit='deg')\n",
    "            nearby_scoords = astropy.coordinates.SkyCoord(\n",
    "                ra=swire_coords_cdfs[nearby, 0], dec=swire_coords_cdfs[nearby, 1], unit='deg')\n",
    "            separations = numpy.array(scoords.separation(nearby_scoords).deg)\n",
    "            nearby_gaussians = scipy.stats.norm.pdf(separations, scale=FALLOFF_SIGMA)\n",
    "            nearby_names = [swire_names_cdfs[n] for n in nearby]\n",
    "            _atlas_to_nearby_features[atlas] = nearby_features\n",
    "            _atlas_to_nearby_names[atlas] = nearby_names\n",
    "            _atlas_to_nearby_gaussians[atlas] = nearby_gaussians\n",
    "        if not nearby_names:\n",
    "            # No candidates.\n",
    "            continue\n",
    "\n",
    "        # Predict class probabilities.\n",
    "        atpreds = classifier.predict_proba(nearby_features)\n",
    "        if len(atpreds.shape) == 1:  # CNN\n",
    "            pass\n",
    "        elif atpreds.shape[1] == 2:  # LR\n",
    "            atpreds = atpreds[:, 1]\n",
    "        else:  # RF\n",
    "            atpreds = atpreds[:, 0]\n",
    "\n",
    "        # Multiply by Gaussians.\n",
    "        atpreds *= nearby_gaussians\n",
    "\n",
    "        # Cross-identify.\n",
    "        name = nearby_names[numpy.argmax(atpreds)]\n",
    "        n_correct += name == swire\n",
    "        n_total += 1\n",
    "    return n_correct / n_total"
   ]
  },
  {
   "cell_type": "code",
   "execution_count": null,
   "metadata": {
    "collapsed": true
   },
   "outputs": [],
   "source": [
    "def get_gct_accs(classifier, quadrant, fit_threshold=True) -> ('balanced accuracy', 'auc'):\n",
    "    train_features = swire_features_cdfs[swire_train_sets_cdfs[:, pipeline.SET_NAMES['RGZ & Norris'], quadrant]]\n",
    "    test_features = swire_features_cdfs[swire_test_sets_cdfs[:, pipeline.SET_NAMES['RGZ & Norris'], quadrant]]\n",
    "    train_labels = swire_labels_cdfs[swire_train_sets_cdfs[:, pipeline.SET_NAMES['RGZ & Norris'], quadrant], 0]\n",
    "    test_labels = swire_labels_cdfs[swire_test_sets_cdfs[:, pipeline.SET_NAMES['RGZ & Norris'], quadrant], 0]\n",
    "\n",
    "    # Pick a new threshold that maximises balanced accuracy.\n",
    "    if fit_threshold:\n",
    "        thresholds = numpy.linspace(0.4, 0.7, 100)\n",
    "        pred_probs = classifier.predict_proba(train_features)\n",
    "        if len(pred_probs.shape) == 1:  # CNN\n",
    "            pass\n",
    "        elif pred_probs.shape[1] == 2:  # LR\n",
    "            pred_probs = pred_probs[:, 1]\n",
    "        else:  # RF\n",
    "            pred_probs = pred_probs[:, 0]\n",
    "        threshold_bas = []\n",
    "        for threshold in thresholds:\n",
    "            try:\n",
    "                ba = crowdastro.crowd.util.balanced_accuracy(\n",
    "                    train_labels,\n",
    "                    pred_probs > threshold)\n",
    "            except ValueError:\n",
    "                ba = 0.5\n",
    "            threshold_bas.append(ba)\n",
    "        best_threshold = thresholds[numpy.argmax(threshold_bas)]\n",
    "    else:\n",
    "        best_threshold = 0.5\n",
    "\n",
    "    # Test on SWIRE (GCT).\n",
    "    pred_probs = classifier.predict_proba(test_features)\n",
    "    if len(pred_probs.shape) == 1:  # CNN\n",
    "        pass\n",
    "    elif pred_probs.shape[1] == 2:  # LR\n",
    "        pred_probs = pred_probs[:, 1]\n",
    "    else:  # RF\n",
    "        pred_probs = pred_probs[:, 0]\n",
    "    pred_labels = pred_probs > best_threshold\n",
    "    auc = sklearn.metrics.roc_auc_score(test_labels, pred_probs)\n",
    "    ba = crowdastro.crowd.util.balanced_accuracy(test_labels, pred_labels)\n",
    "    return ba, auc"
   ]
  },
  {
   "cell_type": "code",
   "execution_count": null,
   "metadata": {},
   "outputs": [
    {
     "name": "stdout",
     "output_type": "stream",
     "text": [
      "Quadrant: 0\n",
      "Quadrant: 1\n",
      "Quadrant: 2\n",
      "Quadrant: 3\n",
      "Quadrant: 0\n",
      "Quadrant: 1\n",
      "Quadrant: 2\n",
      "Quadrant: 3\n",
      "Quadrant: 0\n",
      "Quadrant: 1\n",
      "Quadrant: 2\n",
      "Quadrant: 3\n",
      "Quadrant: 0\n",
      "Quadrant: 1\n",
      "Quadrant: 2\n",
      "Quadrant: 3\n",
      "0\n",
      "1\n",
      "2\n",
      "3\n",
      "4\n",
      "5\n",
      "6\n",
      "7\n",
      "8\n",
      "9\n",
      "10\n",
      "11\n",
      "12\n",
      "13\n",
      "14\n",
      "15\n",
      "16\n",
      "17\n",
      "18\n",
      "19\n",
      "20\n",
      "21\n",
      "22\n",
      "23\n",
      "24\n",
      "25\n",
      "26\n",
      "27\n",
      "28\n",
      "29\n",
      "30\n",
      "31\n",
      "32\n",
      "33\n",
      "34\n",
      "35\n"
     ]
    }
   ],
   "source": [
    "# Generate some classifiers and test them.\n",
    "numpy.random.seed(0)\n",
    "\n",
    "accs_gct = []\n",
    "accs_xid = []\n",
    "aucs_gct = []\n",
    "n_max = swire_train_sets_cdfs[:, pipeline.SET_NAMES['RGZ & Norris']].sum(axis=0).min()\n",
    "# Train 16 LR models (four per quadrant).\n",
    "# I want an ensemble of models so that any correlations we get by using the same model\n",
    "# twice, but noised the second time around, are averaged out.\n",
    "lrs = {q: [] for q in range(4)}\n",
    "for _ in range(4):\n",
    "    for quadrant in range(4):\n",
    "        print('Quadrant:', quadrant)\n",
    "        lr = sklearn.linear_model.LogisticRegression(class_weight='balanced',\n",
    "                                                     C=100000.0)\n",
    "\n",
    "        train = list(swire_train_sets_cdfs[:, pipeline.SET_NAMES['RGZ & Norris'], quadrant].nonzero()[0])\n",
    "        train_features = swire_features_cdfs[train]\n",
    "        train_labels = swire_labels_cdfs[train, 0]\n",
    "        lr.fit(train_features, train_labels)\n",
    "        lrs[quadrant].append(lr)\n",
    "\n",
    "for i in range(40):\n",
    "    print(i)\n",
    "    for q, lrs_ in lrs.items():\n",
    "        for lr in lrs_:\n",
    "            ba, auc = get_gct_accs(lr, q)\n",
    "            acc = get_xid_acc(lr, q)\n",
    "            accs_xid.append(acc)\n",
    "            accs_gct.append(ba)\n",
    "            aucs_gct.append(auc)\n",
    "\n",
    "            # Noise the LR weights to drop the accuracies.\n",
    "            lr.coef_ += numpy.random.normal(scale=lr.coef_.std() / 100, size=lr.coef_.shape)"
   ]
  },
  {
   "cell_type": "code",
   "execution_count": null,
   "metadata": {
    "collapsed": true
   },
   "outputs": [],
   "source": [
    "def density_scatter(xs, ys, cmap='summer', log=False, marker='o', **kwargs):\n",
    "    xy = numpy.vstack([xs, ys])\n",
    "    z = scipy.stats.gaussian_kde(xy)(xy)\n",
    "    if log:\n",
    "        z = numpy.log(z)\n",
    "    plt.scatter(xs, ys, c=z, marker=marker, cmap=cmap, **kwargs)"
   ]
  },
  {
   "cell_type": "code",
   "execution_count": null,
   "metadata": {},
   "outputs": [],
   "source": [
    "accs_gct_ = numpy.array(accs_gct)\n",
    "accs_xid_ = numpy.array(accs_xid)\n",
    "density_scatter(accs_gct_ * 100, accs_xid_ * 100,\n",
    "                cmap=cmocean.cm.dense, edgecolors='k')\n",
    "plt.xlabel('GCT balanced accuracy')\n",
    "plt.ylabel('X-ID accuracy')\n",
    "plt.grid(color='lightgrey', axis='y')\n",
    "# plt.xscale('log')\n",
    "# plt.yscale('log')\n",
    "# plt.savefig('/Users/alger/repos/crowdastro-projects/ATLAS-CDFS/gct-to-xid-lr.pdf')"
   ]
  },
  {
   "cell_type": "code",
   "execution_count": null,
   "metadata": {},
   "outputs": [],
   "source": [
    "aucs_gct_ = numpy.array(aucs_gct)\n",
    "accs_xid_ = numpy.array(accs_xid)\n",
    "density_scatter(aucs_gct_ * 100, accs_xid_ * 100,\n",
    "                cmap=cmocean.cm.dense, edgecolors='k')\n",
    "plt.xlabel('GCT AUC')\n",
    "plt.ylabel('X-ID accuracy')\n",
    "plt.grid(color='lightgrey', axis='y')"
   ]
  },
  {
   "cell_type": "code",
   "execution_count": null,
   "metadata": {},
   "outputs": [],
   "source": [
    "aucs_gct_ = numpy.array(aucs_gct)\n",
    "accs_gct_ = numpy.array(accs_gct)\n",
    "accs_xid_ = numpy.array(accs_xid)\n",
    "density_scatter(accs_gct_ * 100, accs_xid_ * 100,\n",
    "                cmap='Greens', edgecolors='k',\n",
    "                label='BA', marker='s')\n",
    "density_scatter(aucs_gct_ * 100, accs_xid_ * 100,\n",
    "                cmap='Blues', edgecolors='k',\n",
    "                label='AUC', marker='o')\n",
    "plt.xlabel('GCT performance')\n",
    "plt.ylabel('X-ID accuracy')\n",
    "plt.legend()\n",
    "plt.grid(color='lightgrey', axis='y')"
   ]
  },
  {
   "cell_type": "code",
   "execution_count": null,
   "metadata": {},
   "outputs": [],
   "source": [
    "bin_means = []\n",
    "bin_stdevs = []\n",
    "n_bins = 10\n",
    "bins = numpy.linspace(accs_gct_.min(), accs_gct_.max(), n_bins)\n",
    "bins_ = numpy.digitize(accs_gct_, bins=bins)\n",
    "for b in range(n_bins):\n",
    "    bin_means.append(accs_xid_[bins_ == b].mean())\n",
    "    bin_stdevs.append(accs_xid_[bins_ == b].std())\n",
    "bin_means = numpy.array(bin_means)\n",
    "bin_stdevs = numpy.array(bin_stdevs)\n",
    "plt.plot(bins, bin_means)\n",
    "plt.fill_between(bins, bin_means - bin_stdevs, bin_means + bin_stdevs, alpha=0.2)"
   ]
  },
  {
   "cell_type": "code",
   "execution_count": null,
   "metadata": {},
   "outputs": [],
   "source": [
    "# Generate some classifiers and test them.\n",
    "numpy.random.seed(0)\n",
    "\n",
    "accs_gct_rf = []\n",
    "accs_xid_rf = []\n",
    "aucs_gct_rf = []\n",
    "rfs = {q: [] for q in range(4)}\n",
    "n_max = swire_train_sets_cdfs[:, pipeline.SET_NAMES['RGZ & Norris']].sum(axis=0).min()\n",
    "# Train 16 * 40 RF models (4 * 40 per quadrant).\n",
    "# We can't add noise to random forests so we'll have to retrain them with subsets of the training data.\n",
    "for quadrant in range(4):\n",
    "    print(quadrant)\n",
    "    train = list(swire_train_sets_cdfs[:, pipeline.SET_NAMES['RGZ & Norris'], quadrant].nonzero()[0])\n",
    "    for i in range(4 * 40):\n",
    "        subset_size = numpy.linspace(10, 500, 4 * 40, dtype=int)[i]\n",
    "        rf = sklearn.ensemble.RandomForestClassifier(class_weight='balanced',\n",
    "                                                     criterion='entropy',\n",
    "                                                     min_samples_leaf=45)\n",
    "        numpy.random.shuffle(train)\n",
    "        train_subset = train[:subset_size]\n",
    "        train_features = swire_features_cdfs[train_subset]\n",
    "        train_labels = swire_labels_cdfs[train_subset, 0]\n",
    "        rf.fit(train_features, train_labels)\n",
    "        rfs[quadrant].append(rf)\n",
    "\n",
    "        ba, auc = get_gct_accs(rf, q)\n",
    "        acc = get_xid_acc(rf, q)\n",
    "        accs_xid_rf.append(acc)\n",
    "        accs_gct_rf.append(ba)\n",
    "        aucs_gct_rf.append(auc)"
   ]
  },
  {
   "cell_type": "code",
   "execution_count": null,
   "metadata": {},
   "outputs": [],
   "source": [
    "accs_gct_rf_ = numpy.array(accs_gct_rf)\n",
    "accs_xid_rf_ = numpy.array(accs_xid_rf)[accs_gct_rf_ > 0.5]\n",
    "accs_gct_rf_ = numpy.array(accs_gct_rf)[accs_gct_rf_ > 0.5]\n",
    "density_scatter(accs_gct_rf_ * 100, accs_xid_rf_ * 100,\n",
    "                cmap=cmocean.cm.dense, edgecolors='k')\n",
    "plt.xlabel('GCT balanced accuracy')\n",
    "plt.ylabel('X-ID accuracy')\n",
    "plt.grid(color='lightgrey', axis='y')\n",
    "# plt.savefig('/Users/alger/repos/crowdastro-projects/ATLAS-CDFS/gct-to-xid-rf.pdf')"
   ]
  },
  {
   "cell_type": "code",
   "execution_count": null,
   "metadata": {},
   "outputs": [],
   "source": [
    "accs_gct_rf_ = numpy.array(accs_gct_rf)\n",
    "accs_xid_rf_ = numpy.array(accs_xid_rf)[accs_gct_rf_ > 0.5]\n",
    "aucs_gct_rf_ = numpy.array(aucs_gct_rf)[accs_gct_rf_ > 0.5]\n",
    "density_scatter(aucs_gct_rf_ * 100, accs_xid_rf_ * 100,\n",
    "                cmap=cmocean.cm.dense, edgecolors='k')\n",
    "plt.xlabel('GCT balanced accuracy')\n",
    "plt.ylabel('X-ID accuracy')\n",
    "plt.grid(color='lightgrey', axis='y')\n",
    "# plt.savefig('/Users/alger/repos/crowdastro-projects/ATLAS-CDFS/gct-to-xid-rf.pdf')"
   ]
  },
  {
   "cell_type": "code",
   "execution_count": null,
   "metadata": {},
   "outputs": [],
   "source": [
    "accs_gct_rf_ = numpy.array(accs_gct_rf)\n",
    "aucs_gct_rf_ = numpy.array(aucs_gct_rf)[accs_gct_rf_ > 0.5]\n",
    "accs_xid_rf_ = numpy.array(accs_xid_rf)[accs_gct_rf_ > 0.5]\n",
    "accs_gct_rf_ = numpy.array(accs_gct_rf)[accs_gct_rf_ > 0.5]\n",
    "density_scatter(accs_gct_rf_ * 100, accs_xid_rf_ * 100,\n",
    "                cmap='Greens', edgecolors='k',\n",
    "                label='BA', marker='s')\n",
    "density_scatter(aucs_gct_rf_ * 100, accs_xid_rf_ * 100,\n",
    "                cmap='Blues', edgecolors='k',\n",
    "                label='AUC', marker='o')\n",
    "plt.xlabel('GCT performance')\n",
    "plt.ylabel('X-ID accuracy')\n",
    "plt.legend()\n",
    "plt.grid(color='lightgrey', axis='y')"
   ]
  },
  {
   "cell_type": "code",
   "execution_count": null,
   "metadata": {
    "collapsed": true,
    "scrolled": true
   },
   "outputs": [],
   "source": [
    "raise NotImplementedError()\n",
    "# Generate some classifiers and test them.\n",
    "numpy.random.seed(0)\n",
    "\n",
    "accs_gct_cnn = []\n",
    "accs_xid_cnn = []\n",
    "aucs_gct_cnn = []\n",
    "n_max = swire_train_sets_cdfs[:, pipeline.SET_NAMES['RGZ & Norris']].sum(axis=0).min()\n",
    "# Generate 4 CNN models (one per quadrant). Noise them to get new classifiers.\n",
    "cnns = {q: [] for q in range(4)}\n",
    "for _ in range(1):\n",
    "    for quadrant in range(4):\n",
    "        print('Quadrant:', quadrant)\n",
    "        # Load the trained CNN from file.\n",
    "        with open('/Users/alger/data/Crowdastro/model_03_06_17.json') as f:\n",
    "            cnn = keras.models.model_from_json(f.read())\n",
    "            path = '/Users/alger/data/Crowdastro/weights_03_06_17/weights_{}_norris.h5'.format(quadrant)\n",
    "            cnn.load_weights(path)\n",
    "        cnns[quadrant].append(pipeline.CNN(cnn))\n",
    "\n",
    "for i in range(10):\n",
    "    print('Iteration', i)\n",
    "    for q, cnns_ in cnns.items():\n",
    "        print('Quadrant', q)\n",
    "        for cnn in cnns_:\n",
    "            ba, auc = get_gct_accs(cnn, q)\n",
    "            acc = get_xid_acc(cnn, q)\n",
    "            accs_xid_cnn.append(acc)\n",
    "            accs_gct_cnn.append(ba)\n",
    "            aucs_gct_cnn.append(auc)\n",
    "\n",
    "            # Noise the CNN weights to drop the accuracies.\n",
    "            weights = cnn._cnn.get_weights()\n",
    "            for i in range(len(weights)):\n",
    "                w = weights[i]\n",
    "                w += numpy.random.normal(scale=w.std() / 5, size=w.shape)\n",
    "            cnn._cnn.set_weights(weights)"
   ]
  },
  {
   "cell_type": "code",
   "execution_count": null,
   "metadata": {},
   "outputs": [],
   "source": [
    "plt.scatter(accs_gct_cnn, accs_xid_cnn)"
   ]
  },
  {
   "cell_type": "code",
   "execution_count": null,
   "metadata": {},
   "outputs": [],
   "source": [
    "rf_line = scipy.stats.linregress(accs_gct_rf_[accs_gct_rf_ > 0.51], accs_xid_rf_[accs_gct_rf_ > 0.51])\n",
    "lr_line = scipy.stats.linregress(accs_gct_[accs_gct_ > 0.51], accs_xid_[accs_gct_ > 0.51])\n",
    "print('rf: {}'.format(rf_line.rvalue))\n",
    "print('lr: {}'.format(lr_line.rvalue))"
   ]
  },
  {
   "cell_type": "code",
   "execution_count": null,
   "metadata": {},
   "outputs": [],
   "source": [
    "fs = figsize(0.9)\n",
    "fs = fs[0] * 1.5, fs[1] * 3\n",
    "fig = plt.figure(figsize=fs)\n",
    "plt.subplot(2, 1, 1)\n",
    "density_scatter(\n",
    "    accs_gct_rf_[accs_gct_rf_ > 0.51] * 100,\n",
    "    accs_xid_rf_[accs_gct_rf_ > 0.51] * 100, log=True, cmap='cool')\n",
    "plt.plot(numpy.array(sorted(accs_gct_rf_[accs_gct_rf_ > 0.51])) * 100,\n",
    "         numpy.array(sorted(accs_gct_rf_[accs_gct_rf_ > 0.51])) * rf_line.slope * 100 + rf_line.intercept * 100,\n",
    "         linewidth=1, color='k', linestyle='--')\n",
    "plt.ylabel('X-ID accuracy (per cent)')\n",
    "plt.xticks([])\n",
    "plt.annotate('RF', (50, 85))\n",
    "plt.xlim((45, 100))\n",
    "plt.ylim((40, 100))\n",
    "plt.yticks(range(50, 100, 10))\n",
    "plt.subplot(2, 1, 2)\n",
    "density_scatter(accs_gct_[accs_gct_ > 0.51] * 100, accs_xid_[accs_gct_ > 0.51] * 100, log=True, cmap='cool')\n",
    "plt.plot(numpy.array(sorted(accs_gct_[accs_gct_ > 0.51])) * 100,\n",
    "         numpy.array(sorted(accs_gct_[accs_gct_ > 0.51])) * lr_line.slope * 100 + lr_line.intercept * 100,\n",
    "         linewidth=1, color='k', linestyle='--')\n",
    "plt.xlabel('GCT balanced accuracy (per cent)')\n",
    "plt.ylabel('X-ID accuracy (per cent)')\n",
    "plt.xlim((45, 100))\n",
    "plt.ylim((40, 100))\n",
    "plt.yticks(range(50, 100, 10))\n",
    "plt.annotate('LR', (50, 85))\n",
    "import matplotlib.cm, matplotlib.colors, matplotlib.colorbar\n",
    "cbar_ax = fig.add_axes([0.75, 0.12, 0.05, 0.76])\n",
    "norm = matplotlib.colors.Normalize(vmin=0, vmax=1)\n",
    "cb1 = matplotlib.colorbar.ColorbarBase(cbar_ax,\n",
    "                                       norm=norm,\n",
    "                                       orientation='vertical',\n",
    "                                       cmap='cool')\n",
    "cb1.set_label('log(classifier density)')\n",
    "plt.subplots_adjust(hspace=0, right=0.7, left=0.2)\n",
    "plt.savefig('/Users/alger/repos/crowdastro-projects/ATLAS-CDFS/images/gct-to-xid.pdf')"
   ]
  },
  {
   "cell_type": "code",
   "execution_count": null,
   "metadata": {
    "collapsed": true
   },
   "outputs": [],
   "source": [
    "slope, intercept, r_value, p_value, std_err = scipy.stats.linregress(accs_gct_[accs_gct_ > 0.51], accs_xid_[accs_gct_ > 0.51])\n",
    "slope_rf, intercept_rf, r_value_rf, p_value_rf, std_err_rf = scipy.stats.linregress(accs_gct_rf_[accs_gct_rf_ > 0.51], accs_xid_rf_[accs_gct_rf_ > 0.51])\n",
    "\n",
    "print(r_value**2, r_value_rf**2)\n",
    "print(std_err, std_err_rf)"
   ]
  },
  {
   "cell_type": "code",
   "execution_count": null,
   "metadata": {},
   "outputs": [],
   "source": [
    "aucs_rf_ = numpy.array(aucs_rf)\n",
    "xs = numpy.log(aucs_rf_[aucs_rf_ > 0.51])\n",
    "ys = numpy.log(accs_xid_rf_[aucs_rf_ > 0.51])\n",
    "plt.scatter(xs, ys)\n",
    "m, b = numpy.polyfit(xs, ys, 1)\n",
    "plt.plot(xs, m * xs + b, c='black')\n",
    "print(m, b)\n",
    "plt.xlabel('log(GCT AUC)')\n",
    "plt.ylabel('log(XID accuracy)')\n",
    "# N = 20\n",
    "# plt.scatter(xs, numpy.exp(-N / 200) * xs ** N + (1 - numpy.exp(-N / 200)))"
   ]
  },
  {
   "cell_type": "markdown",
   "metadata": {
    "collapsed": true
   },
   "source": [
    "\\begin{align*}\n",
    "    log(XID) &= m \\log(AUC) + b\\\\\n",
    "        &= \\log(AUC^m) + b\\\\\n",
    "    XID &= \\exp(b) AUC^m\\\\\n",
    "\\end{align*}"
   ]
  },
  {
   "cell_type": "code",
   "execution_count": null,
   "metadata": {},
   "outputs": [],
   "source": [
    "numpy.exp(0.19)"
   ]
  },
  {
   "cell_type": "markdown",
   "metadata": {},
   "source": [
    "So only the ~8 galaxies closest the radio object matter under my model. What's the expected radius we need to get $N$ galaxies?"
   ]
  },
  {
   "cell_type": "markdown",
   "metadata": {},
   "source": [
    "$$R_N = \\sqrt{\\frac{N}{\\pi\\rho}}$$"
   ]
  },
  {
   "cell_type": "markdown",
   "metadata": {},
   "source": [
    "Do the units check out?\n",
    "\n",
    "$$m = \\sqrt{\\frac{1}{1 \\times \\frac{1}{m^2}}} = m$$\n",
    "\n",
    "Yup, looks good. What's the average density of galaxies, per square arcmin?"
   ]
  },
  {
   "cell_type": "code",
   "execution_count": 66,
   "metadata": {},
   "outputs": [
    {
     "name": "stdout",
     "output_type": "stream",
     "text": [
      "8.00018847275\n"
     ]
    }
   ],
   "source": [
    "densities = []\n",
    "for atlas in atlas_test_sets_cdfs[:, pipeline.SET_NAMES['RGZ & Norris'], 0].nonzero()[0]:\n",
    "    row = table[table['Key'] == atlas][0]\n",
    "    ra = row['Component RA (Franzen)']\n",
    "    dec = row['Component DEC (Franzen)']\n",
    "    swire = row['Source SWIRE (Norris)']\n",
    "    if not swire.startswith('SWIRE'):\n",
    "        continue\n",
    "    nearby = swire_tree.query_ball_point(numpy.array([ra, dec]), 1 / 60)\n",
    "    n = len(nearby)\n",
    "    area = numpy.pi\n",
    "    densities.append(n / area)\n",
    "print(numpy.mean(densities))"
   ]
  },
  {
   "cell_type": "markdown",
   "metadata": {},
   "source": [
    "So\n",
    "\n",
    "$$R_8 = \\sqrt{\\frac{8}{8 \\pi}} = \\frac{1}{\\sqrt{\\pi}} \\approx 0.56 \\text{ arcmin}$$\n",
    "\n",
    "is the radius in which we expect to find \"difficult\" examples. What's that look like on an image?"
   ]
  },
  {
   "cell_type": "code",
   "execution_count": 71,
   "metadata": {
    "collapsed": true
   },
   "outputs": [],
   "source": [
    "import aplpy"
   ]
  },
  {
   "cell_type": "code",
   "execution_count": 105,
   "metadata": {},
   "outputs": [
    {
     "name": "stderr",
     "output_type": "stream",
     "text": [
      "WARNING: FITSFixedWarning: PC001001= 1.000000000000E+00 \n",
      "this form of the PCi_ja keyword is deprecated, use PCi_ja. [astropy.wcs.wcs]\n",
      "WARNING: FITSFixedWarning: PC002001= 0.000000000000E+00 \n",
      "this form of the PCi_ja keyword is deprecated, use PCi_ja. [astropy.wcs.wcs]\n",
      "WARNING: FITSFixedWarning: PC001002= 0.000000000000E+00 \n",
      "this form of the PCi_ja keyword is deprecated, use PCi_ja. [astropy.wcs.wcs]\n",
      "WARNING: FITSFixedWarning: PC002002= 1.000000000000E+00 \n",
      "this form of the PCi_ja keyword is deprecated, use PCi_ja. [astropy.wcs.wcs]\n"
     ]
    },
    {
     "name": "stdout",
     "output_type": "stream",
     "text": [
      "INFO: Auto-setting vmin to -6.858e+01 [aplpy.core]\n",
      "INFO: Auto-setting vmax to  7.227e+02 [aplpy.core]\n"
     ]
    },
    {
     "data": {
      "image/png": "[encoded data removed]",
      "text/plain": [
       "<matplotlib.figure.Figure at 0x11aab4e48>"
      ]
     },
     "metadata": {},
     "output_type": "display_data"
    }
   ],
   "source": [
    "f = aplpy.FITSFigure('/Users/alger/data/RGZ/cdfs/2x2/CI0020_radio.fits')\n",
    "f.show_grayscale()\n",
    "f.show_rectangles(*f.pixel2world(100, 100), 2 * 0.56 / 60, 2 * 0.56 / 60, edgecolor='red', linewidth=10)\n",
    "f.show_rectangles(*f.pixel2world(70, 70),\n",
    "                  *numpy.abs(numpy.array(f.pixel2world(100, 100)) - numpy.array(f.pixel2world(132, 132))),\n",
    "                  edgecolor='pink', linewidth=5)\n"
   ]
  },
  {
   "cell_type": "code",
   "execution_count": 80,
   "metadata": {},
   "outputs": [
    {
     "data": {
      "text/plain": [
       "(53.300339438393884, -27.818536047903606)"
      ]
     },
     "execution_count": 80,
     "metadata": {},
     "output_type": "execute_result"
    }
   ],
   "source": []
  },
  {
   "cell_type": "code",
   "execution_count": null,
   "metadata": {
    "collapsed": true
   },
   "outputs": [],
   "source": []
  }
 ],
 "metadata": {
  "kernelspec": {
   "display_name": "Python 3",
   "language": "python",
   "name": "python3"
  },
  "language_info": {
   "codemirror_mode": {
    "name": "ipython",
    "version": 3
   },
   "file_extension": ".py",
   "mimetype": "text/x-python",
   "name": "python",
   "nbconvert_exporter": "python",
   "pygments_lexer": "ipython3",
   "version": "3.6.4"
  }
 },
 "nbformat": 4,
 "nbformat_minor": 2
}
