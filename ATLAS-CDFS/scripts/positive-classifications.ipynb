{
 "cells": [
  {
   "cell_type": "markdown",
   "metadata": {},
   "source": [
    "# Positive Classifications\n",
    "\n",
    "Balanced accuracy is misleading: We don't care about the false positives. But it's not obvious that this is a factor in our calculations. This notebook generates a plot that shows all the false positives for an ATLAS object."
   ]
  },
  {
   "cell_type": "code",
   "execution_count": 1,
   "metadata": {
    "collapsed": true
   },
   "outputs": [],
   "source": [
    "import re\n",
    "import warnings\n",
    "\n",
    "import aplpy\n",
    "import astropy.io\n",
    "import h5py\n",
    "import matplotlib.pyplot as plt\n",
    "import numpy\n",
    "\n",
    "%matplotlib inline\n",
    "\n",
    "import matplotlib\n",
    "import matplotlib.pyplot as plt\n",
    "import numpy\n",
    "\n",
    "INCHES_PER_PT = 1.0 / 72.27\n",
    "COLUMN_WIDTH_PT = 240.0\n",
    "FONT_SIZE_PT = 8.0\n",
    "\n",
    "pgf_with_latex = {\n",
    "    \"pgf.texsystem\": \"pdflatex\",\n",
    "    \"text.usetex\": True,\n",
    "    \"font.family\": \"serif\",\n",
    "    \"font.serif\": [],\n",
    "    \"font.sans-serif\": [],\n",
    "    \"font.monospace\": [],\n",
    "    \"axes.labelsize\": FONT_SIZE_PT,\n",
    "    \"font.size\": FONT_SIZE_PT,\n",
    "    \"legend.fontsize\": FONT_SIZE_PT,\n",
    "    \"xtick.labelsize\": FONT_SIZE_PT,\n",
    "    \"ytick.labelsize\": FONT_SIZE_PT,\n",
    "    \"figure.figsize\": (COLUMN_WIDTH_PT * INCHES_PER_PT, 0.8 * COLUMN_WIDTH_PT * INCHES_PER_PT),\n",
    "    \"pgf.preamble\": [\n",
    "        r\"\\usepackage[utf8x]{inputenc}\",\n",
    "        r\"\\usepackage[T1]{fontenc}\",\n",
    "    ]\n",
    "}\n",
    "matplotlib.rcParams.update(pgf_with_latex)"
   ]
  },
  {
   "cell_type": "code",
   "execution_count": 2,
   "metadata": {
    "collapsed": true
   },
   "outputs": [],
   "source": [
    "table = astropy.io.ascii.read('/Users/alger/data/Crowdastro/one-table-to-rule-them-all.tbl')"
   ]
  },
  {
   "cell_type": "code",
   "execution_count": 3,
   "metadata": {
    "collapsed": true
   },
   "outputs": [],
   "source": [
    "rgzcat = astropy.io.ascii.read(\n",
    "            '/Users/alger/data/RGZ/dr1_weighted_old/static_rgz_host_full.csv')\n",
    "rgz_ras = rgzcat['SWIRE.ra']\n",
    "rgz_decs = rgzcat['SWIRE.dec']\n",
    "norris_swires = astropy.io.ascii.read(\n",
    "            '/Users/alger/data/ATLAS/swire_positives_norris_06.txt')['SWIRE']\n",
    "norris_ras = []\n",
    "norris_decs = []\n",
    "\n",
    "for swire in norris_swires:\n",
    "    m = re.match(r'J(\\d\\d)(\\d\\d)(\\d\\d\\.\\d\\d)(-\\d\\d)(\\d\\d)(\\d\\d\\.\\d)', swire)\n",
    "    if not m:\n",
    "        continue\n",
    "    \n",
    "    ra = ' '.join(m.groups()[:3])\n",
    "    dec = ' '.join(m.groups()[3:])\n",
    "    coord = astropy.coordinates.SkyCoord(ra=ra, dec=dec, unit=('hourangle', 'deg'))\n",
    "    norris_ras.append(coord.ra.deg)\n",
    "    norris_decs.append(coord.dec.deg)"
   ]
  },
  {
   "cell_type": "code",
   "execution_count": 4,
   "metadata": {
    "collapsed": true
   },
   "outputs": [],
   "source": [
    "crowdastrocat = h5py.File('/Users/alger/data/Crowdastro/crowdastro-swire.h5', 'r')\n",
    "swire_ras = crowdastrocat['/swire/cdfs/numeric'][:, 0]\n",
    "swire_decs = crowdastrocat['/swire/cdfs/numeric'][:, 1]"
   ]
  },
  {
   "cell_type": "code",
   "execution_count": 5,
   "metadata": {
    "collapsed": true
   },
   "outputs": [],
   "source": [
    "predictions = astropy.io.ascii.read('/Users/alger/data/Crowdastro/predicted_swire_table_cdfs_19_08_17.csv')\n",
    "predictions_ra = predictions['RA']\n",
    "predictions_dec = predictions['Dec']\n",
    "predictions_pos = predictions['LR(RGZ / All)'] > 0.5"
   ]
  },
  {
   "cell_type": "code",
   "execution_count": 15,
   "metadata": {},
   "outputs": [
    {
     "name": "stdout",
     "output_type": "stream",
     "text": [
      "ATLAS3_J032929.61-281938.9C\n",
      "INFO: Auto-setting vmin to -3.936e+00 [aplpy.core]\n",
      "INFO: Auto-setting vmax to  2.305e+02 [aplpy.core]\n",
      "INFO: Auto-setting resolution to 100.209 dpi [aplpy.core]\n"
     ]
    },
    {
     "data": {
      "image/png": "[encoded data removed]",
      "text/plain": [
       "<matplotlib.figure.Figure at 0x10da45908>"
      ]
     },
     "metadata": {},
     "output_type": "display_data"
    }
   ],
   "source": [
    "keys = []\n",
    "for row in table:\n",
    "    if row['Component Zooniverse ID (RGZ)'] and row['Source SWIRE (Norris)']:\n",
    "        keys.append(row['Key'])\n",
    "\n",
    "row = table[keys[164]]\n",
    "print(row['Component Name (Franzen)'])\n",
    "\n",
    "fits_path = '/Users/alger/data/RGZ/cdfs/2x2/' + row['Component ID (Franzen)'] + '_radio.fits'\n",
    "\n",
    "with warnings.catch_warnings():\n",
    "    warnings.simplefilter('ignore', astropy.wcs.FITSFixedWarning)\n",
    "    fig = plt.figure()\n",
    "    fig = aplpy.FITSFigure(fits_path, figure=fig)\n",
    "    fig.show_grayscale(invert=True, stretch='arcsinh')\n",
    "    fig.show_markers(rgz_ras, rgz_decs, marker='x', s=30, linewidth=0.75, c='red', zorder=2)\n",
    "    fig.show_markers(predictions_ra, predictions_dec, marker='o', s=30, linewidth=0.75,\n",
    "                     c=numpy.where(predictions_pos, 'orange', 'white'), edgecolor='black', zorder=1)\n",
    "    fig.set_theme('publication')\n",
    "    fig.set_tick_labels_format(xformat='hh:mm:ss',yformat='dd:mm:ss')\n",
    "    fig.axis_labels.set_xtext('Right Ascension (J2000)')\n",
    "    fig.axis_labels.set_ytext('Declination (J2000)')\n",
    "#     fig.tick_labels.set_font(size='xx-large', weight='medium', \\\n",
    "#                              stretch='normal', family='sans-serif', \\\n",
    "#                              style='normal', variant='normal')\n",
    "#     fig.axis_labels.set_font(size='xx-large', weight='medium', \\\n",
    "#                              stretch='normal', family='sans-serif', \\\n",
    "#                              style='normal', variant='normal')\n",
    "#     fig.set_tick_labels_format(xformat='hh:mm:ss',yformat='dd:mm:ss')\n",
    "    fig.save('/Users/alger/repos/crowdastro-projects/ATLAS-CDFS/images/positives.pdf')"
   ]
  },
  {
   "cell_type": "code",
   "execution_count": null,
   "metadata": {
    "collapsed": true
   },
   "outputs": [],
   "source": []
  },
  {
   "cell_type": "code",
   "execution_count": null,
   "metadata": {
    "collapsed": true
   },
   "outputs": [],
   "source": []
  }
 ],
 "metadata": {
  "kernelspec": {
   "display_name": "Python 3",
   "language": "python",
   "name": "python3"
  },
  "language_info": {
   "codemirror_mode": {
    "name": "ipython",
    "version": 3
   },
   "file_extension": ".py",
   "mimetype": "text/x-python",
   "name": "python",
   "nbconvert_exporter": "python",
   "pygments_lexer": "ipython3",
   "version": "3.6.4"
  }
 },
 "nbformat": 4,
 "nbformat_minor": 2
}
