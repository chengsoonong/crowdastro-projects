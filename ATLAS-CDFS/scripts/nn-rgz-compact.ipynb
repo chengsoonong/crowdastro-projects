{
 "cells": [
  {
   "cell_type": "code",
   "execution_count": 1,
   "metadata": {
    "collapsed": true
   },
   "outputs": [],
   "source": [
    "import pipeline, astropy.io, astropy.table, numpy, matplotlib.pyplot as plt, collections\n",
    "import itertools\n",
    "%matplotlib inline\n",
    "\n",
    "# Try to set up matplotlib fonts.\n",
    "import matplotlib\n",
    "\n",
    "# http://bkanuka.com/articles/native-latex-plots/\n",
    "def figsize(scale):\n",
    "    fig_width_pt = 240.0\n",
    "    inches_per_pt = 1.0/72.27\n",
    "    golden_mean = (numpy.sqrt(5.0)-1.0)/2.0\n",
    "    fig_width = fig_width_pt*inches_per_pt*scale\n",
    "    fig_height = fig_width*golden_mean\n",
    "    fig_size = [fig_width,fig_height]\n",
    "    return fig_size\n",
    "\n",
    "pgf_with_latex = {\n",
    "    \"pgf.texsystem\": \"pdflatex\",\n",
    "    \"text.usetex\": True,\n",
    "    \"font.family\": \"serif\",\n",
    "    \"font.serif\": [],\n",
    "    \"font.sans-serif\": [],\n",
    "    \"font.monospace\": [],\n",
    "    \"axes.labelsize\": 12,\n",
    "    \"font.size\": 12,\n",
    "    \"legend.fontsize\": 12,\n",
    "    \"xtick.labelsize\": 12,\n",
    "    \"ytick.labelsize\": 12,\n",
    "    \"figure.figsize\": figsize(0.9),\n",
    "    \"pgf.preamble\": [\n",
    "        r\"\\usepackage[utf8x]{inputenc}\",\n",
    "        r\"\\usepackage[T1]{fontenc}\",\n",
    "    ]\n",
    "}\n",
    "matplotlib.rcParams.update(pgf_with_latex)\n",
    "\n",
    "\n",
    "\n",
    "titlemap = {\n",
    "    'RGZ & Norris & compact': 'Compact',\n",
    "    'RGZ & Norris & resolved': 'Resolved',\n",
    "    'RGZ & Norris': 'All',\n",
    "    'RGZ & compact': 'Compact',\n",
    "    'RGZ & resolved': 'Resolved',\n",
    "    'RGZ': 'All',\n",
    "}\n",
    "\n",
    "fullmap = {\n",
    "    'RGZ & Norris & compact': 'RGZ & compact',\n",
    "    'RGZ & Norris & resolved': 'RGZ & resolved',\n",
    "    'RGZ & Norris': 'RGZ',\n",
    "}\n",
    "\n",
    "whatset = {\n",
    "    'RGZ & Norris & compact': 'RGZ & Norris & compact',\n",
    "    'RGZ & Norris & resolved': 'RGZ & Norris & resolved',\n",
    "    'RGZ & Norris': 'RGZ & Norris',\n",
    "    'RGZ & compact': 'RGZ & Norris & compact',\n",
    "    'RGZ & resolved': 'RGZ & Norris & resolved',\n",
    "    'RGZ': 'RGZ & Norris',\n",
    "}\n",
    "\n",
    "norris_labelled_sets = [\n",
    "    'RGZ & Norris & compact',\n",
    "    'RGZ & Norris & resolved',\n",
    "    'RGZ & Norris',\n",
    "]"
   ]
  },
  {
   "cell_type": "code",
   "execution_count": 2,
   "metadata": {
    "collapsed": true
   },
   "outputs": [],
   "source": [
    "swire_names, swire_coords, _ = pipeline.generate_swire_features(overwrite=False, field='cdfs')\n",
    "swire_labels = pipeline.generate_swire_labels(swire_names, swire_coords, overwrite=False, field='cdfs')\n",
    "(_, atlas_test_sets), (_, swire_test_sets) = pipeline.generate_data_sets(swire_coords, swire_labels, overwrite=False, field='cdfs')"
   ]
  },
  {
   "cell_type": "code",
   "execution_count": 3,
   "metadata": {
    "collapsed": true
   },
   "outputs": [],
   "source": [
    "lr_predictions = itertools.chain(\n",
    "    pipeline.unserialise_predictions(\n",
    "        pipeline.WORKING_DIR + 'LogisticRegression_norris_cdfs_predictions'),\n",
    "    pipeline.unserialise_predictions(\n",
    "        pipeline.WORKING_DIR + 'LogisticRegression_rgz_cdfs_predictions'))\n",
    "rf_predictions = itertools.chain(\n",
    "    pipeline.unserialise_predictions(\n",
    "        pipeline.WORKING_DIR + 'RandomForestClassifier_norris_cdfs_predictions'),\n",
    "    pipeline.unserialise_predictions(\n",
    "        pipeline.WORKING_DIR + 'RandomForestClassifier_rgz_cdfs_predictions'))\n",
    "cnn_predictions = itertools.chain(\n",
    "    pipeline.unserialise_predictions(\n",
    "        pipeline.WORKING_DIR + 'CNN_norris_cdfs_predictions'),\n",
    "    pipeline.unserialise_predictions(\n",
    "        pipeline.WORKING_DIR + 'CNN_rgz_cdfs_predictions'))"
   ]
  },
  {
   "cell_type": "code",
   "execution_count": 4,
   "metadata": {},
   "outputs": [
    {
     "name": "stderr",
     "output_type": "stream",
     "text": [
      "/usr/local/lib/python3.6/site-packages/ipykernel_launcher.py:15: UserWarning: Warning: converting a masked element to nan.\n",
      "  from ipykernel import kernelapp as app\n"
     ]
    }
   ],
   "source": [
    "# Classify nearest neighbours to ATLAS coords as hosts.\n",
    "atlas_names = []\n",
    "table = astropy.io.ascii.read(pipeline.TABLE_PATH)\n",
    "atlas_coords = []\n",
    "norris_truth = []\n",
    "atlas_name_to_compact = {}\n",
    "for i, row in enumerate(table):\n",
    "    assert i == row['Key']\n",
    "    name = row['Component Name (Franzen)']\n",
    "    atlas_names.append(name)\n",
    "    atlas_coords.append((row['Component RA (Franzen)'], row['Component DEC (Franzen)']))\n",
    "    norris_truth.append((row['Source SWIRE (Norris)']))\n",
    "    if name:\n",
    "        atlas_name_to_compact[name] = pipeline.compact_test(row)\n",
    "atlas_coords = numpy.array(atlas_coords)"
   ]
  },
  {
   "cell_type": "code",
   "execution_count": 5,
   "metadata": {
    "collapsed": true
   },
   "outputs": [],
   "source": [
    "nn_labels = numpy.zeros((swire_labels.shape[0],), dtype='bool')"
   ]
  },
  {
   "cell_type": "code",
   "execution_count": 6,
   "metadata": {
    "collapsed": true
   },
   "outputs": [],
   "source": [
    "swire_tree = pipeline.scipy.spatial.KDTree(swire_coords)"
   ]
  },
  {
   "cell_type": "code",
   "execution_count": 7,
   "metadata": {
    "collapsed": true
   },
   "outputs": [],
   "source": [
    "dists, nearest = swire_tree.query(atlas_coords)"
   ]
  },
  {
   "cell_type": "code",
   "execution_count": 8,
   "metadata": {
    "collapsed": true
   },
   "outputs": [],
   "source": [
    "nn_labels[nearest[dists != numpy.inf]] = True"
   ]
  },
  {
   "cell_type": "code",
   "execution_count": 9,
   "metadata": {
    "collapsed": true
   },
   "outputs": [],
   "source": [
    "# Load RGZ cross-identifications and compute a balanced accuracy with them.\n",
    "label_rgz_accuracies = {sstr: [0] * 4 for sstr in pipeline.SET_NAMES}\n",
    "label_nn_accuracies = {sstr: [0] * 4 for sstr in pipeline.SET_NAMES}\n",
    "label_norris_accuracies = {sstr: [1] * 4 for sstr in pipeline.SET_NAMES}  # By definition.\n",
    "for dataset_name in pipeline.SET_NAMES:\n",
    "    for quadrant in range(4):\n",
    "        test_set = swire_test_sets[:, pipeline.SET_NAMES[dataset_name], quadrant]\n",
    "        predictions_rgz = swire_labels[test_set, 1]\n",
    "        predictions_nn = nn_labels[test_set]\n",
    "        trues = swire_labels[test_set, 0]\n",
    "        ba_rgz = pipeline.balanced_accuracy(trues, predictions_rgz)\n",
    "        ba_nn = pipeline.balanced_accuracy(trues, predictions_nn)\n",
    "        label_rgz_accuracies[dataset_name][quadrant] = ba_rgz\n",
    "        label_nn_accuracies[dataset_name][quadrant] = ba_nn"
   ]
  },
  {
   "cell_type": "code",
   "execution_count": 10,
   "metadata": {
    "collapsed": true
   },
   "outputs": [],
   "source": [
    "lr_norris_accuracies = {sstr: [0] * 4 for sstr in pipeline.SET_NAMES}\n",
    "lr_rgz_accuracies = {sstr: [0] * 4 for sstr in pipeline.SET_NAMES}\n",
    "rf_norris_accuracies = {sstr: [0] * 4 for sstr in pipeline.SET_NAMES}\n",
    "rf_rgz_accuracies = {sstr: [0] * 4 for sstr in pipeline.SET_NAMES}\n",
    "cnn_norris_accuracies = {sstr: [0] * 4 for sstr in pipeline.SET_NAMES}\n",
    "cnn_rgz_accuracies = {sstr: [0] * 4 for sstr in pipeline.SET_NAMES}\n",
    "for predictions in lr_predictions:\n",
    "    dataset_name = predictions.dataset_name\n",
    "    if predictions.labeller == 'norris':\n",
    "        lr_norris_accuracies[dataset_name][predictions.quadrant] = predictions.balanced_accuracy\n",
    "    else:\n",
    "        lr_rgz_accuracies[dataset_name][predictions.quadrant] = predictions.balanced_accuracy\n",
    "for predictions in rf_predictions:\n",
    "    dataset_name = predictions.dataset_name\n",
    "    if predictions.labeller == 'norris':\n",
    "        rf_norris_accuracies[dataset_name][predictions.quadrant] = predictions.balanced_accuracy\n",
    "    else:\n",
    "        rf_rgz_accuracies[dataset_name][predictions.quadrant] = predictions.balanced_accuracy\n",
    "for predictions in cnn_predictions:\n",
    "    dataset_name = predictions.dataset_name\n",
    "    if predictions.labeller == 'norris':\n",
    "        cnn_norris_accuracies[dataset_name][predictions.quadrant] = predictions.balanced_accuracy\n",
    "    else:\n",
    "        cnn_rgz_accuracies[dataset_name][predictions.quadrant] = predictions.balanced_accuracy"
   ]
  },
  {
   "cell_type": "code",
   "execution_count": 11,
   "metadata": {},
   "outputs": [
    {
     "data": {
      "image/png": "[encoded data removed]",
      "text/plain": [
       "<matplotlib.figure.Figure at 0x11750b128>"
      ]
     },
     "metadata": {},
     "output_type": "display_data"
    }
   ],
   "source": [
    "colours = ['red', 'red', 'blue', 'blue', 'red', 'red', 'blue', 'grey']\n",
    "markers = '^oo^xsx+'\n",
    "handles = {}\n",
    "# plt.figure(figsize=(5, 3))\n",
    "\n",
    "accuracy_map = collections.defaultdict(lambda: collections.defaultdict(dict))  # For table output.\n",
    "output_sets = [\n",
    "    ('CNN(RGZ)', cnn_rgz_accuracies),\n",
    "    ('LR(RGZ)', lr_rgz_accuracies),\n",
    "    ('LR(Norris)', lr_norris_accuracies),\n",
    "    ('CNN(Norris)', cnn_norris_accuracies),\n",
    "    ('RF(RGZ)', rf_rgz_accuracies),\n",
    "    ('RGZ', label_rgz_accuracies),\n",
    "    ('RF(Norris)', rf_norris_accuracies),\n",
    "    ('NN', label_nn_accuracies),\n",
    "]\n",
    "fs = figsize(0.9)\n",
    "fs = fs[0], fs[1] * 2\n",
    "fig = plt.figure(figsize=fs)\n",
    "for j, (classifier_name, classifier_set) in enumerate(output_sets):\n",
    "    set_name = 'RGZ & Norris & compact'\n",
    "    ax = plt.subplot(1, 1, 1)\n",
    "    for k in range(4):\n",
    "        handles[j] = ax.scatter([(j + 1) / 10], classifier_set[set_name][k] * 100,\n",
    "                                color=colours[j], marker=markers[j], linewidth=1, edgecolor='k')\n",
    "    ax.set_ylim((80, 100))\n",
    "    ax.set_xlim((0, 0.9))\n",
    "    ax.set_xticks(numpy.linspace(0.1, 0.8, 8))\n",
    "    ax.set_xticklabels([s[0] for s in output_sets], rotation='vertical')\n",
    "    if i == 2:\n",
    "        plt.xlabel('Labels')\n",
    "    plt.ylabel('Balanced accuracy (\\\\%)'.format(titlemap[set_name]))\n",
    "\n",
    "    ax.title.set_fontsize(16)\n",
    "    ax.xaxis.label.set_fontsize(12)\n",
    "    ax.yaxis.label.set_fontsize(9)\n",
    "    for tick in ax.get_xticklabels() + ax.get_yticklabels():\n",
    "        tick.set_fontsize(10)\n",
    "\n",
    "    ax.grid(which='major', axis='y', color='#EEEEEE')\n",
    "\n",
    "plt.subplots_adjust(bottom=0.3, left=0.20)\n",
    "plt.savefig('../images/compact-ba.pdf')"
   ]
  },
  {
   "cell_type": "code",
   "execution_count": 15,
   "metadata": {},
   "outputs": [],
   "source": [
    "# Now, let's save these results as a predictions object so we can use them in our grid plots.\n",
    "preds = []\n",
    "for quadrant in range(4):\n",
    "    test_set = swire_test_sets[:, pipeline.SET_NAMES['RGZ'], quadrant]\n",
    "    p = pipeline.Predictions(\n",
    "            probabilities=nn_labels[test_set],\n",
    "            labels=nn_labels[test_set],\n",
    "            balanced_accuracy=0,\n",
    "            dataset_name='RGZ & Norris',  # This is only for recording the *training* set.\n",
    "            quadrant=quadrant,\n",
    "            params={},\n",
    "            labeller='NN',\n",
    "            classifier='NearestNeighbour')\n",
    "    preds.append(p)"
   ]
  },
  {
   "cell_type": "code",
   "execution_count": 17,
   "metadata": {},
   "outputs": [],
   "source": [
    "pipeline.serialise_predictions(preds, pipeline.WORKING_DIR + 'NearestNeighbour_cdfs')"
   ]
  },
  {
   "cell_type": "code",
   "execution_count": 31,
   "metadata": {},
   "outputs": [],
   "source": [
    "xids = []\n",
    "for quadrant in range(4):\n",
    "    test_set = atlas_test_sets[:, pipeline.SET_NAMES['RGZ'], quadrant]\n",
    "    dists, nearest = swire_tree.query(atlas_coords[test_set])\n",
    "    radio_names = numpy.array([atlas_names[i] for i in test_set.nonzero()[0]])\n",
    "    names = numpy.array([swire_names[i] for i in nearest])\n",
    "    true_names = numpy.array([norris_truth[i] for i in test_set.nonzero()[0]])\n",
    "    xids.append(pipeline.CrossIdentifications(\n",
    "        radio_names=radio_names,\n",
    "        ir_names=names,\n",
    "        quadrant=quadrant,\n",
    "        dataset_name='RGZ & Norris',\n",
    "        labeller='NN',\n",
    "        classifier='NearestNeighbour',\n",
    "        params={},\n",
    "        accuracy=(true_names == names).mean()))"
   ]
  },
  {
   "cell_type": "code",
   "execution_count": 33,
   "metadata": {
    "collapsed": true
   },
   "outputs": [],
   "source": [
    "pipeline.serialise_cross_identifications(xids, pipeline.WORKING_DIR + 'NearestNeighbour_cdfs_cross_ids')"
   ]
  },
  {
   "cell_type": "markdown",
   "metadata": {},
   "source": [
    "## ELAIS-S1"
   ]
  },
  {
   "cell_type": "code",
   "execution_count": 37,
   "metadata": {},
   "outputs": [
    {
     "name": "stderr",
     "output_type": "stream",
     "text": [
      "WARNING: VerifyWarning: It is strongly recommended that column names contain only upper and lower-case ASCII letters, digits, or underscores for maximum compatibility with other software (got '---'). [astropy.io.fits.column]\n"
     ]
    }
   ],
   "source": [
    "with astropy.io.fits.open(pipeline.MIDDELBERG_TABLE4_PATH) as fits:\n",
    "    elais_component_table = astropy.table.Table(fits[1].data).to_pandas()"
   ]
  },
  {
   "cell_type": "code",
   "execution_count": 38,
   "metadata": {},
   "outputs": [
    {
     "data": {
      "text/html": [
       "<div>\n",
       "<table border=\"1\" class=\"dataframe\">\n",
       "  <thead>\n",
       "    <tr style=\"text-align: right;\">\n",
       "      <th></th>\n",
       "      <th>CID</th>\n",
       "      <th>---</th>\n",
       "      <th>ATELAIS</th>\n",
       "      <th>RAh</th>\n",
       "      <th>RAm</th>\n",
       "      <th>RAs</th>\n",
       "      <th>DE-</th>\n",
       "      <th>DEd</th>\n",
       "      <th>DEm</th>\n",
       "      <th>DEs</th>\n",
       "      <th>...</th>\n",
       "      <th>e_Sint</th>\n",
       "      <th>rms</th>\n",
       "      <th>Bmaj</th>\n",
       "      <th>Bmin</th>\n",
       "      <th>PA</th>\n",
       "      <th>Spd</th>\n",
       "      <th>DBmaj</th>\n",
       "      <th>DBmin</th>\n",
       "      <th>DPA</th>\n",
       "      <th>L</th>\n",
       "    </tr>\n",
       "  </thead>\n",
       "  <tbody>\n",
       "    <tr>\n",
       "      <th>0</th>\n",
       "      <td>C0001</td>\n",
       "      <td>ATELAIS</td>\n",
       "      <td>J003333.11-444550.4</td>\n",
       "      <td>0</td>\n",
       "      <td>33</td>\n",
       "      <td>33.117</td>\n",
       "      <td>-</td>\n",
       "      <td>44</td>\n",
       "      <td>45</td>\n",
       "      <td>50.46</td>\n",
       "      <td>...</td>\n",
       "      <td>0.14</td>\n",
       "      <td>258.69</td>\n",
       "      <td>16.64</td>\n",
       "      <td>9.83</td>\n",
       "      <td>1</td>\n",
       "      <td>2.53</td>\n",
       "      <td>13.10</td>\n",
       "      <td>6.72</td>\n",
       "      <td>2</td>\n",
       "      <td></td>\n",
       "    </tr>\n",
       "    <tr>\n",
       "      <th>1</th>\n",
       "      <td>C0002</td>\n",
       "      <td>ATELAIS</td>\n",
       "      <td>J003346.18-444513.6</td>\n",
       "      <td>0</td>\n",
       "      <td>33</td>\n",
       "      <td>46.190</td>\n",
       "      <td>-</td>\n",
       "      <td>44</td>\n",
       "      <td>45</td>\n",
       "      <td>13.60</td>\n",
       "      <td>...</td>\n",
       "      <td>0.05</td>\n",
       "      <td>176.57</td>\n",
       "      <td>10.26</td>\n",
       "      <td>7.17</td>\n",
       "      <td>0</td>\n",
       "      <td>0.00</td>\n",
       "      <td>0.00</td>\n",
       "      <td>0.00</td>\n",
       "      <td>0</td>\n",
       "      <td></td>\n",
       "    </tr>\n",
       "    <tr>\n",
       "      <th>2</th>\n",
       "      <td>C0003</td>\n",
       "      <td>ATELAIS</td>\n",
       "      <td>J003504.08-444506.6</td>\n",
       "      <td>0</td>\n",
       "      <td>35</td>\n",
       "      <td>4.084</td>\n",
       "      <td>-</td>\n",
       "      <td>44</td>\n",
       "      <td>45</td>\n",
       "      <td>6.62</td>\n",
       "      <td>...</td>\n",
       "      <td>0.10</td>\n",
       "      <td>208.30</td>\n",
       "      <td>18.50</td>\n",
       "      <td>9.71</td>\n",
       "      <td>162</td>\n",
       "      <td>2.35</td>\n",
       "      <td>15.61</td>\n",
       "      <td>6.02</td>\n",
       "      <td>157</td>\n",
       "      <td></td>\n",
       "    </tr>\n",
       "    <tr>\n",
       "      <th>3</th>\n",
       "      <td>C0004</td>\n",
       "      <td>ATELAIS</td>\n",
       "      <td>J003709.03-444427.5</td>\n",
       "      <td>0</td>\n",
       "      <td>37</td>\n",
       "      <td>9.036</td>\n",
       "      <td>-</td>\n",
       "      <td>44</td>\n",
       "      <td>44</td>\n",
       "      <td>27.55</td>\n",
       "      <td>...</td>\n",
       "      <td>0.14</td>\n",
       "      <td>212.77</td>\n",
       "      <td>19.72</td>\n",
       "      <td>14.34</td>\n",
       "      <td>32</td>\n",
       "      <td>1.35</td>\n",
       "      <td>17.39</td>\n",
       "      <td>11.63</td>\n",
       "      <td>40</td>\n",
       "      <td>*</td>\n",
       "    </tr>\n",
       "    <tr>\n",
       "      <th>4</th>\n",
       "      <td>C0005</td>\n",
       "      <td>ATELAIS</td>\n",
       "      <td>J003709.86-444349.8</td>\n",
       "      <td>0</td>\n",
       "      <td>37</td>\n",
       "      <td>9.865</td>\n",
       "      <td>-</td>\n",
       "      <td>44</td>\n",
       "      <td>43</td>\n",
       "      <td>49.86</td>\n",
       "      <td>...</td>\n",
       "      <td>0.06</td>\n",
       "      <td>198.81</td>\n",
       "      <td>14.75</td>\n",
       "      <td>8.52</td>\n",
       "      <td>0</td>\n",
       "      <td>9.60</td>\n",
       "      <td>10.60</td>\n",
       "      <td>4.59</td>\n",
       "      <td>179</td>\n",
       "      <td></td>\n",
       "    </tr>\n",
       "  </tbody>\n",
       "</table>\n",
       "<p>5 rows × 25 columns</p>\n",
       "</div>"
      ],
      "text/plain": [
       "       CID      ---              ATELAIS  RAh  RAm     RAs DE-  DEd  DEm  \\\n",
       "0  C0001    ATELAIS  J003333.11-444550.4    0   33  33.117   -   44   45   \n",
       "1  C0002    ATELAIS  J003346.18-444513.6    0   33  46.190   -   44   45   \n",
       "2  C0003    ATELAIS  J003504.08-444506.6    0   35   4.084   -   44   45   \n",
       "3  C0004    ATELAIS  J003709.03-444427.5    0   37   9.036   -   44   44   \n",
       "4  C0005    ATELAIS  J003709.86-444349.8    0   37   9.865   -   44   43   \n",
       "\n",
       "     DEs ...  e_Sint     rms   Bmaj   Bmin   PA   Spd  DBmaj  DBmin  DPA  L  \n",
       "0  50.46 ...    0.14  258.69  16.64   9.83    1  2.53  13.10   6.72    2     \n",
       "1  13.60 ...    0.05  176.57  10.26   7.17    0  0.00   0.00   0.00    0     \n",
       "2   6.62 ...    0.10  208.30  18.50   9.71  162  2.35  15.61   6.02  157     \n",
       "3  27.55 ...    0.14  212.77  19.72  14.34   32  1.35  17.39  11.63   40  *  \n",
       "4  49.86 ...    0.06  198.81  14.75   8.52    0  9.60  10.60   4.59  179     \n",
       "\n",
       "[5 rows x 25 columns]"
      ]
     },
     "execution_count": 38,
     "metadata": {},
     "output_type": "execute_result"
    }
   ],
   "source": [
    "elais_component_table.head()"
   ]
  },
  {
   "cell_type": "code",
   "execution_count": 40,
   "metadata": {
    "collapsed": true
   },
   "outputs": [],
   "source": [
    "swire_names_elais, swire_coords_elais, _ = pipeline.generate_swire_features(\n",
    "    overwrite=False, field='elais')\n",
    "swire_labels_elais = pipeline.generate_swire_labels(\n",
    "    swire_names_elais, swire_coords_elais, overwrite=False, field='elais')\n",
    "(_, atlas_test_sets_elais), (_, swire_test_sets_elais) = pipeline.generate_data_sets(\n",
    "    swire_coords_elais, swire_labels_elais, overwrite=False, field='elais')"
   ]
  },
  {
   "cell_type": "code",
   "execution_count": 49,
   "metadata": {
    "collapsed": true
   },
   "outputs": [],
   "source": [
    "swire_tree_elais = pipeline.scipy.spatial.KDTree(swire_coords_elais)"
   ]
  },
  {
   "cell_type": "code",
   "execution_count": 59,
   "metadata": {},
   "outputs": [],
   "source": [
    "elais_nn_labels = numpy.zeros((len(swire_names_elais),), dtype=bool)\n",
    "elais_names = []\n",
    "elais_predicted_names = []\n",
    "for i, component in elais_component_table.iterrows():\n",
    "    cc = astropy.coordinates.SkyCoord(ra='{} {} {}'.format(component['RAh'], component['RAm'], component['RAs']),\n",
    "                                      dec='-{} {} {}'.format(component['DEd'], component['DEm'], component['DEs']),\n",
    "                                      unit=('hourangle', 'deg'))\n",
    "    coord = (cc.ra.deg, cc.dec.deg)\n",
    "    dist, nearby = swire_tree_elais.query(coord)\n",
    "    elais_nn_labels[nearby] = True\n",
    "    elais_names.append(component['ATELAIS'])\n",
    "    elais_predicted_names.append(swire_names_elais[nearby])"
   ]
  },
  {
   "cell_type": "code",
   "execution_count": 53,
   "metadata": {},
   "outputs": [
    {
     "data": {
      "text/plain": [
       "0.039127003399708593"
      ]
     },
     "execution_count": 53,
     "metadata": {},
     "output_type": "execute_result"
    }
   ],
   "source": [
    "elais_nn_labels.mean()"
   ]
  },
  {
   "cell_type": "code",
   "execution_count": 70,
   "metadata": {
    "collapsed": true
   },
   "outputs": [],
   "source": [
    "test_set = swire_test_sets_elais[:, 0, 0]\n",
    "p = pipeline.Predictions(\n",
    "        probabilities=elais_nn_labels[test_set],\n",
    "        labels=elais_nn_labels[test_set],\n",
    "        balanced_accuracy=0,\n",
    "        dataset_name='RGZ & Norris',\n",
    "        quadrant=0,\n",
    "        params={},\n",
    "        labeller='norris',\n",
    "        classifier='NearestNeighbour')"
   ]
  },
  {
   "cell_type": "code",
   "execution_count": 66,
   "metadata": {
    "collapsed": true
   },
   "outputs": [],
   "source": [
    "pipeline.serialise_predictions([p], pipeline.WORKING_DIR + 'NearestNeighbour_elais')"
   ]
  },
  {
   "cell_type": "code",
   "execution_count": 78,
   "metadata": {},
   "outputs": [],
   "source": [
    "test_set = atlas_test_sets_elais[:, 0, 0]\n",
    "radio_names = numpy.array(elais_names)\n",
    "names = numpy.array(elais_predicted_names)\n",
    "xids = []\n",
    "xids.append(pipeline.CrossIdentifications(\n",
    "    radio_names=radio_names,\n",
    "    ir_names=names,\n",
    "    quadrant=0,\n",
    "    dataset_name='RGZ & Norris',\n",
    "    labeller='norris',\n",
    "    classifier='NearestNeighbour',\n",
    "    params={},\n",
    "    accuracy=0))"
   ]
  },
  {
   "cell_type": "code",
   "execution_count": 79,
   "metadata": {
    "collapsed": true
   },
   "outputs": [],
   "source": [
    "pipeline.serialise_cross_identifications(xids, pipeline.WORKING_DIR + 'NearestNeighbour_elais_cross_ids')"
   ]
  },
  {
   "cell_type": "code",
   "execution_count": 76,
   "metadata": {},
   "outputs": [
    {
     "data": {
      "text/plain": [
       "0.92703753563509661"
      ]
     },
     "execution_count": 76,
     "metadata": {},
     "output_type": "execute_result"
    }
   ],
   "source": [
    "pipeline.balanced_accuracy(elais_nn_labels[test_set], swire_labels_elais[test_set, 0])"
   ]
  },
  {
   "cell_type": "code",
   "execution_count": null,
   "metadata": {
    "collapsed": true
   },
   "outputs": [],
   "source": []
  }
 ],
 "metadata": {
  "kernelspec": {
   "display_name": "Python 3",
   "language": "python",
   "name": "python3"
  },
  "language_info": {
   "codemirror_mode": {
    "name": "ipython",
    "version": 3
   },
   "file_extension": ".py",
   "mimetype": "text/x-python",
   "name": "python",
   "nbconvert_exporter": "python",
   "pygments_lexer": "ipython3",
   "version": "3.6.1"
  }
 },
 "nbformat": 4,
 "nbformat_minor": 2
}
